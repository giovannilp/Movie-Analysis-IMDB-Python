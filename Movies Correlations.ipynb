{
 "cells": [
  {
   "cell_type": "markdown",
   "id": "6b100479",
   "metadata": {},
   "source": [
    "# Movie Industry Analysis"
   ]
  },
  {
   "cell_type": "markdown",
   "id": "a87697c0",
   "metadata": {},
   "source": [
    "How do we know if a movie will be a blockbuster hit? What are the variables that contribute to this? Director, star actor or budget interfere for a film to achieve success?\n",
    "\n",
    "In this work, we set out to analyze the IMDB scraped movie dataset to gain insights and answer all our curiosity.\n",
    "\n",
    "The dataset is from Kaggle - <a href=\"https://www.kaggle.com/datasets/danielgrijalvas/movies\"> Movie Industry </a> and contains 6820 movies in the dataset (220 movies per year, 1986-2016), including information on popularity, revenue, budget, cast, and genres.\n"
   ]
  },
  {
   "cell_type": "markdown",
   "id": "df1be8a0",
   "metadata": {},
   "source": [
    "## Table of Contents \n",
    "\n",
    "\n",
    "- Asking Questions\n",
    "- Data Wrangling\n",
    "- Exploratory Data Analysis\n",
    "- Conclusions"
   ]
  },
  {
   "cell_type": "markdown",
   "id": "d3fc3661",
   "metadata": {},
   "source": [
    "***\n",
    "## Asking Questions\n",
    "\n",
    "\n",
    "Based on dataset, we are interested to know:\n",
    "\n",
    "- Q1: Does a higher budget results in higher revenue and profit?\n",
    "- Q2: What is the most profitable genre?\n",
    "- Q3: Which genres are associated with high popularity?\n",
    "- Q4: Which director produces the highest gross movies?\n",
    "- Q5: Which star actor is associated with higher popularity, gross and profit?\n",
    "- Q6: Which year produced movies with highest grossing revenue?\n",
    "- Q7: Which company has the most revenue and what is their most profitable film?\n",
    "- Q8: What are the 3 best rated movies?"
   ]
  },
  {
   "cell_type": "markdown",
   "id": "49f93936",
   "metadata": {},
   "source": [
    "***\n",
    "## Data Wrangling\n",
    "\n",
    "\n",
    "We will prepare the environment, load and assess dataset. Subsequently, we also clean and process the data for analysis."
   ]
  },
  {
   "cell_type": "markdown",
   "id": "7b6d220c",
   "metadata": {},
   "source": [
    "### Preparing the Environment\n"
   ]
  },
  {
   "cell_type": "code",
   "execution_count": 2,
   "id": "5d12b635",
   "metadata": {},
   "outputs": [],
   "source": [
    "import pandas as pd\n",
    "import numpy as np\n",
    "import seaborn as sns\n",
    "\n",
    "import matplotlib.pyplot as plt\n",
    "import matplotlib.mlab as mlab\n",
    "import matplotlib\n",
    "plt.style.use('ggplot')\n",
    "from matplotlib.pyplot import figure\n",
    "\n",
    "%matplotlib inline\n",
    "matplotlib.rcParams['figure.figsize'] = (12,8)\n",
    "\n",
    "pd.options.mode.chained_assignment = None\n",
    "\n",
    "\n",
    "\n",
    "#read the csv data\n",
    "df = pd.read_csv('movies.csv')"
   ]
  },
  {
   "cell_type": "markdown",
   "id": "235a0e79",
   "metadata": {},
   "source": [
    "### Assess Data\n",
    "\n",
    "\n",
    "In this step, we view the dataset and get basic information."
   ]
  },
  {
   "cell_type": "code",
   "execution_count": 3,
   "id": "a51f3255",
   "metadata": {
    "scrolled": false
   },
   "outputs": [
    {
     "data": {
      "text/html": [
       "<div>\n",
       "<style scoped>\n",
       "    .dataframe tbody tr th:only-of-type {\n",
       "        vertical-align: middle;\n",
       "    }\n",
       "\n",
       "    .dataframe tbody tr th {\n",
       "        vertical-align: top;\n",
       "    }\n",
       "\n",
       "    .dataframe thead th {\n",
       "        text-align: right;\n",
       "    }\n",
       "</style>\n",
       "<table border=\"1\" class=\"dataframe\">\n",
       "  <thead>\n",
       "    <tr style=\"text-align: right;\">\n",
       "      <th></th>\n",
       "      <th>name</th>\n",
       "      <th>rating</th>\n",
       "      <th>genre</th>\n",
       "      <th>year</th>\n",
       "      <th>released</th>\n",
       "      <th>score</th>\n",
       "      <th>votes</th>\n",
       "      <th>director</th>\n",
       "      <th>writer</th>\n",
       "      <th>star</th>\n",
       "      <th>country</th>\n",
       "      <th>budget</th>\n",
       "      <th>gross</th>\n",
       "      <th>company</th>\n",
       "      <th>runtime</th>\n",
       "    </tr>\n",
       "  </thead>\n",
       "  <tbody>\n",
       "    <tr>\n",
       "      <th>0</th>\n",
       "      <td>The Shining</td>\n",
       "      <td>R</td>\n",
       "      <td>Drama</td>\n",
       "      <td>1980</td>\n",
       "      <td>June 13, 1980 (United States)</td>\n",
       "      <td>8.4</td>\n",
       "      <td>927000.0</td>\n",
       "      <td>Stanley Kubrick</td>\n",
       "      <td>Stephen King</td>\n",
       "      <td>Jack Nicholson</td>\n",
       "      <td>United Kingdom</td>\n",
       "      <td>19000000.0</td>\n",
       "      <td>46998772.0</td>\n",
       "      <td>Warner Bros.</td>\n",
       "      <td>146.0</td>\n",
       "    </tr>\n",
       "    <tr>\n",
       "      <th>1</th>\n",
       "      <td>The Blue Lagoon</td>\n",
       "      <td>R</td>\n",
       "      <td>Adventure</td>\n",
       "      <td>1980</td>\n",
       "      <td>July 2, 1980 (United States)</td>\n",
       "      <td>5.8</td>\n",
       "      <td>65000.0</td>\n",
       "      <td>Randal Kleiser</td>\n",
       "      <td>Henry De Vere Stacpoole</td>\n",
       "      <td>Brooke Shields</td>\n",
       "      <td>United States</td>\n",
       "      <td>4500000.0</td>\n",
       "      <td>58853106.0</td>\n",
       "      <td>Columbia Pictures</td>\n",
       "      <td>104.0</td>\n",
       "    </tr>\n",
       "    <tr>\n",
       "      <th>2</th>\n",
       "      <td>Star Wars: Episode V - The Empire Strikes Back</td>\n",
       "      <td>PG</td>\n",
       "      <td>Action</td>\n",
       "      <td>1980</td>\n",
       "      <td>June 20, 1980 (United States)</td>\n",
       "      <td>8.7</td>\n",
       "      <td>1200000.0</td>\n",
       "      <td>Irvin Kershner</td>\n",
       "      <td>Leigh Brackett</td>\n",
       "      <td>Mark Hamill</td>\n",
       "      <td>United States</td>\n",
       "      <td>18000000.0</td>\n",
       "      <td>538375067.0</td>\n",
       "      <td>Lucasfilm</td>\n",
       "      <td>124.0</td>\n",
       "    </tr>\n",
       "    <tr>\n",
       "      <th>3</th>\n",
       "      <td>Airplane!</td>\n",
       "      <td>PG</td>\n",
       "      <td>Comedy</td>\n",
       "      <td>1980</td>\n",
       "      <td>July 2, 1980 (United States)</td>\n",
       "      <td>7.7</td>\n",
       "      <td>221000.0</td>\n",
       "      <td>Jim Abrahams</td>\n",
       "      <td>Jim Abrahams</td>\n",
       "      <td>Robert Hays</td>\n",
       "      <td>United States</td>\n",
       "      <td>3500000.0</td>\n",
       "      <td>83453539.0</td>\n",
       "      <td>Paramount Pictures</td>\n",
       "      <td>88.0</td>\n",
       "    </tr>\n",
       "    <tr>\n",
       "      <th>4</th>\n",
       "      <td>Caddyshack</td>\n",
       "      <td>R</td>\n",
       "      <td>Comedy</td>\n",
       "      <td>1980</td>\n",
       "      <td>July 25, 1980 (United States)</td>\n",
       "      <td>7.3</td>\n",
       "      <td>108000.0</td>\n",
       "      <td>Harold Ramis</td>\n",
       "      <td>Brian Doyle-Murray</td>\n",
       "      <td>Chevy Chase</td>\n",
       "      <td>United States</td>\n",
       "      <td>6000000.0</td>\n",
       "      <td>39846344.0</td>\n",
       "      <td>Orion Pictures</td>\n",
       "      <td>98.0</td>\n",
       "    </tr>\n",
       "  </tbody>\n",
       "</table>\n",
       "</div>"
      ],
      "text/plain": [
       "                                             name rating      genre  year  \\\n",
       "0                                     The Shining      R      Drama  1980   \n",
       "1                                 The Blue Lagoon      R  Adventure  1980   \n",
       "2  Star Wars: Episode V - The Empire Strikes Back     PG     Action  1980   \n",
       "3                                       Airplane!     PG     Comedy  1980   \n",
       "4                                      Caddyshack      R     Comedy  1980   \n",
       "\n",
       "                        released  score      votes         director  \\\n",
       "0  June 13, 1980 (United States)    8.4   927000.0  Stanley Kubrick   \n",
       "1   July 2, 1980 (United States)    5.8    65000.0   Randal Kleiser   \n",
       "2  June 20, 1980 (United States)    8.7  1200000.0   Irvin Kershner   \n",
       "3   July 2, 1980 (United States)    7.7   221000.0     Jim Abrahams   \n",
       "4  July 25, 1980 (United States)    7.3   108000.0     Harold Ramis   \n",
       "\n",
       "                    writer            star         country      budget  \\\n",
       "0             Stephen King  Jack Nicholson  United Kingdom  19000000.0   \n",
       "1  Henry De Vere Stacpoole  Brooke Shields   United States   4500000.0   \n",
       "2           Leigh Brackett     Mark Hamill   United States  18000000.0   \n",
       "3             Jim Abrahams     Robert Hays   United States   3500000.0   \n",
       "4       Brian Doyle-Murray     Chevy Chase   United States   6000000.0   \n",
       "\n",
       "         gross             company  runtime  \n",
       "0   46998772.0        Warner Bros.    146.0  \n",
       "1   58853106.0   Columbia Pictures    104.0  \n",
       "2  538375067.0           Lucasfilm    124.0  \n",
       "3   83453539.0  Paramount Pictures     88.0  \n",
       "4   39846344.0      Orion Pictures     98.0  "
      ]
     },
     "execution_count": 3,
     "metadata": {},
     "output_type": "execute_result"
    }
   ],
   "source": [
    "# Now let's take a look at the first 5 rows\n",
    "\n",
    "df.head()\n"
   ]
  },
  {
   "cell_type": "code",
   "execution_count": 4,
   "id": "ff79ce32",
   "metadata": {},
   "outputs": [
    {
     "name": "stdout",
     "output_type": "stream",
     "text": [
      "<class 'pandas.core.frame.DataFrame'>\n",
      "RangeIndex: 7668 entries, 0 to 7667\n",
      "Data columns (total 15 columns):\n",
      " #   Column    Non-Null Count  Dtype  \n",
      "---  ------    --------------  -----  \n",
      " 0   name      7668 non-null   object \n",
      " 1   rating    7591 non-null   object \n",
      " 2   genre     7668 non-null   object \n",
      " 3   year      7668 non-null   int64  \n",
      " 4   released  7666 non-null   object \n",
      " 5   score     7665 non-null   float64\n",
      " 6   votes     7665 non-null   float64\n",
      " 7   director  7668 non-null   object \n",
      " 8   writer    7665 non-null   object \n",
      " 9   star      7667 non-null   object \n",
      " 10  country   7665 non-null   object \n",
      " 11  budget    5497 non-null   float64\n",
      " 12  gross     7479 non-null   float64\n",
      " 13  company   7651 non-null   object \n",
      " 14  runtime   7664 non-null   float64\n",
      "dtypes: float64(5), int64(1), object(9)\n",
      "memory usage: 898.7+ KB\n"
     ]
    }
   ],
   "source": [
    "# Basic information of dataset\n",
    "df.info()"
   ]
  },
  {
   "cell_type": "markdown",
   "id": "50bf1b50",
   "metadata": {},
   "source": [
    "We have 7668 rows so we see that we have null values in some columns"
   ]
  },
  {
   "cell_type": "markdown",
   "id": "58e76851",
   "metadata": {},
   "source": [
    "### Handle Missing Values\n"
   ]
  },
  {
   "cell_type": "code",
   "execution_count": 5,
   "id": "2504cd4d",
   "metadata": {
    "scrolled": true
   },
   "outputs": [
    {
     "data": {
      "text/plain": [
       "True"
      ]
     },
     "execution_count": 5,
     "metadata": {},
     "output_type": "execute_result"
    }
   ],
   "source": [
    "#do we have null?\n",
    "\n",
    "df.isnull().any().any()"
   ]
  },
  {
   "cell_type": "code",
   "execution_count": 6,
   "id": "8da497ad",
   "metadata": {},
   "outputs": [
    {
     "data": {
      "text/plain": [
       "name        False\n",
       "rating       True\n",
       "genre       False\n",
       "year        False\n",
       "released     True\n",
       "score        True\n",
       "votes        True\n",
       "director    False\n",
       "writer       True\n",
       "star         True\n",
       "country      True\n",
       "budget       True\n",
       "gross        True\n",
       "company      True\n",
       "runtime      True\n",
       "dtype: bool"
      ]
     },
     "execution_count": 6,
     "metadata": {},
     "output_type": "execute_result"
    }
   ],
   "source": [
    "# in which columns?\n",
    "\n",
    "df.isnull().any()"
   ]
  },
  {
   "cell_type": "markdown",
   "id": "155cb4d9",
   "metadata": {},
   "source": [
    "Using percentage to find missing values would give a clearer representation of the missing values in the dataset."
   ]
  },
  {
   "cell_type": "code",
   "execution_count": 7,
   "id": "c0b368c6",
   "metadata": {
    "scrolled": true
   },
   "outputs": [
    {
     "data": {
      "text/plain": [
       "name         0.000000\n",
       "rating       1.004173\n",
       "genre        0.000000\n",
       "year         0.000000\n",
       "released     0.026082\n",
       "score        0.039124\n",
       "votes        0.039124\n",
       "director     0.000000\n",
       "writer       0.039124\n",
       "star         0.013041\n",
       "country      0.039124\n",
       "budget      28.312467\n",
       "gross        2.464789\n",
       "company      0.221701\n",
       "runtime      0.052165\n",
       "dtype: float64"
      ]
     },
     "execution_count": 7,
     "metadata": {},
     "output_type": "execute_result"
    }
   ],
   "source": [
    "# Find percentage of null values\n",
    "\n",
    "df.isnull().sum()/len(df)*100"
   ]
  },
  {
   "cell_type": "markdown",
   "id": "032fdba0",
   "metadata": {},
   "source": [
    "We will drop the unnecessary fields "
   ]
  },
  {
   "cell_type": "code",
   "execution_count": 8,
   "id": "9966a917",
   "metadata": {},
   "outputs": [],
   "source": [
    "#remove missing data\n",
    "\n",
    "df = df.dropna()"
   ]
  },
  {
   "cell_type": "code",
   "execution_count": 9,
   "id": "0faa7d5a",
   "metadata": {},
   "outputs": [
    {
     "data": {
      "text/plain": [
       "False"
      ]
     },
     "execution_count": 9,
     "metadata": {},
     "output_type": "execute_result"
    }
   ],
   "source": [
    "# do we still have null values?\n",
    "\n",
    "df.isnull().any().any()"
   ]
  },
  {
   "cell_type": "markdown",
   "id": "ea3111f1",
   "metadata": {},
   "source": [
    "### Handle Duplicates\n"
   ]
  },
  {
   "cell_type": "code",
   "execution_count": 10,
   "id": "18e5fa64",
   "metadata": {},
   "outputs": [
    {
     "data": {
      "text/plain": [
       "0"
      ]
     },
     "execution_count": 10,
     "metadata": {},
     "output_type": "execute_result"
    }
   ],
   "source": [
    "# Check for duplicates\n",
    "df.duplicated().sum()\n"
   ]
  },
  {
   "cell_type": "code",
   "execution_count": null,
   "id": "e87b9535",
   "metadata": {},
   "outputs": [],
   "source": [
    "# We don't have duplicate lines, so we don't need to retract anything. If we needed:\n",
    "\n",
    "# Drop row and set inplace to True to reflect changes in dataset\n",
    "# df.drop_duplicates(inplace=True)"
   ]
  },
  {
   "cell_type": "markdown",
   "id": "17f9c8b5",
   "metadata": {},
   "source": [
    "### Change DataType\n",
    "\n",
    "Let's look at the column data types and see if we need to change anything.\n"
   ]
  },
  {
   "cell_type": "code",
   "execution_count": 11,
   "id": "060d2b57",
   "metadata": {
    "scrolled": true
   },
   "outputs": [
    {
     "data": {
      "text/plain": [
       "name         object\n",
       "rating       object\n",
       "genre        object\n",
       "year          int64\n",
       "released     object\n",
       "score       float64\n",
       "votes       float64\n",
       "director     object\n",
       "writer       object\n",
       "star         object\n",
       "country      object\n",
       "budget      float64\n",
       "gross       float64\n",
       "company      object\n",
       "runtime     float64\n",
       "dtype: object"
      ]
     },
     "execution_count": 11,
     "metadata": {},
     "output_type": "execute_result"
    }
   ],
   "source": [
    "# Data Types for our columns\n",
    "\n",
    "df.dtypes"
   ]
  },
  {
   "cell_type": "code",
   "execution_count": 12,
   "id": "a45a869f",
   "metadata": {},
   "outputs": [],
   "source": [
    "#change data type of columns (to remove float numbers)\n",
    "\n",
    "df['budget'] = df['budget'].astype('int64')\n",
    "\n",
    "df['gross'] = df['gross'].astype('int64')"
   ]
  },
  {
   "cell_type": "code",
   "execution_count": 13,
   "id": "f9558596",
   "metadata": {
    "scrolled": true
   },
   "outputs": [
    {
     "data": {
      "text/plain": [
       "name         object\n",
       "rating       object\n",
       "genre        object\n",
       "year          int64\n",
       "released     object\n",
       "score       float64\n",
       "votes       float64\n",
       "director     object\n",
       "writer       object\n",
       "star         object\n",
       "country      object\n",
       "budget        int64\n",
       "gross         int64\n",
       "company      object\n",
       "runtime     float64\n",
       "dtype: object"
      ]
     },
     "execution_count": 13,
     "metadata": {},
     "output_type": "execute_result"
    }
   ],
   "source": [
    "# Data Types for our columns\n",
    "\n",
    "df.dtypes"
   ]
  },
  {
   "cell_type": "markdown",
   "id": "b2fb0c32",
   "metadata": {},
   "source": [
    "### Create Year Column and Calculated Field\n"
   ]
  },
  {
   "cell_type": "code",
   "execution_count": 14,
   "id": "03eb72c6",
   "metadata": {
    "scrolled": false
   },
   "outputs": [
    {
     "data": {
      "text/html": [
       "<div>\n",
       "<style scoped>\n",
       "    .dataframe tbody tr th:only-of-type {\n",
       "        vertical-align: middle;\n",
       "    }\n",
       "\n",
       "    .dataframe tbody tr th {\n",
       "        vertical-align: top;\n",
       "    }\n",
       "\n",
       "    .dataframe thead th {\n",
       "        text-align: right;\n",
       "    }\n",
       "</style>\n",
       "<table border=\"1\" class=\"dataframe\">\n",
       "  <thead>\n",
       "    <tr style=\"text-align: right;\">\n",
       "      <th></th>\n",
       "      <th>name</th>\n",
       "      <th>rating</th>\n",
       "      <th>genre</th>\n",
       "      <th>year</th>\n",
       "      <th>released</th>\n",
       "      <th>score</th>\n",
       "      <th>votes</th>\n",
       "      <th>director</th>\n",
       "      <th>writer</th>\n",
       "      <th>star</th>\n",
       "      <th>country</th>\n",
       "      <th>budget</th>\n",
       "      <th>gross</th>\n",
       "      <th>company</th>\n",
       "      <th>runtime</th>\n",
       "      <th>yearcorrect</th>\n",
       "      <th>profit</th>\n",
       "      <th>profit_margin</th>\n",
       "    </tr>\n",
       "  </thead>\n",
       "  <tbody>\n",
       "    <tr>\n",
       "      <th>0</th>\n",
       "      <td>The Shining</td>\n",
       "      <td>R</td>\n",
       "      <td>Drama</td>\n",
       "      <td>1980</td>\n",
       "      <td>June 13, 1980 (United States)</td>\n",
       "      <td>8.4</td>\n",
       "      <td>927000.0</td>\n",
       "      <td>Stanley Kubrick</td>\n",
       "      <td>Stephen King</td>\n",
       "      <td>Jack Nicholson</td>\n",
       "      <td>United Kingdom</td>\n",
       "      <td>19000000</td>\n",
       "      <td>46998772</td>\n",
       "      <td>Warner Bros.</td>\n",
       "      <td>146.0</td>\n",
       "      <td>1980</td>\n",
       "      <td>27998772</td>\n",
       "      <td>59.573412</td>\n",
       "    </tr>\n",
       "    <tr>\n",
       "      <th>1</th>\n",
       "      <td>The Blue Lagoon</td>\n",
       "      <td>R</td>\n",
       "      <td>Adventure</td>\n",
       "      <td>1980</td>\n",
       "      <td>July 2, 1980 (United States)</td>\n",
       "      <td>5.8</td>\n",
       "      <td>65000.0</td>\n",
       "      <td>Randal Kleiser</td>\n",
       "      <td>Henry De Vere Stacpoole</td>\n",
       "      <td>Brooke Shields</td>\n",
       "      <td>United States</td>\n",
       "      <td>4500000</td>\n",
       "      <td>58853106</td>\n",
       "      <td>Columbia Pictures</td>\n",
       "      <td>104.0</td>\n",
       "      <td>1980</td>\n",
       "      <td>54353106</td>\n",
       "      <td>92.353845</td>\n",
       "    </tr>\n",
       "    <tr>\n",
       "      <th>2</th>\n",
       "      <td>Star Wars: Episode V - The Empire Strikes Back</td>\n",
       "      <td>PG</td>\n",
       "      <td>Action</td>\n",
       "      <td>1980</td>\n",
       "      <td>June 20, 1980 (United States)</td>\n",
       "      <td>8.7</td>\n",
       "      <td>1200000.0</td>\n",
       "      <td>Irvin Kershner</td>\n",
       "      <td>Leigh Brackett</td>\n",
       "      <td>Mark Hamill</td>\n",
       "      <td>United States</td>\n",
       "      <td>18000000</td>\n",
       "      <td>538375067</td>\n",
       "      <td>Lucasfilm</td>\n",
       "      <td>124.0</td>\n",
       "      <td>1980</td>\n",
       "      <td>520375067</td>\n",
       "      <td>96.656606</td>\n",
       "    </tr>\n",
       "    <tr>\n",
       "      <th>3</th>\n",
       "      <td>Airplane!</td>\n",
       "      <td>PG</td>\n",
       "      <td>Comedy</td>\n",
       "      <td>1980</td>\n",
       "      <td>July 2, 1980 (United States)</td>\n",
       "      <td>7.7</td>\n",
       "      <td>221000.0</td>\n",
       "      <td>Jim Abrahams</td>\n",
       "      <td>Jim Abrahams</td>\n",
       "      <td>Robert Hays</td>\n",
       "      <td>United States</td>\n",
       "      <td>3500000</td>\n",
       "      <td>83453539</td>\n",
       "      <td>Paramount Pictures</td>\n",
       "      <td>88.0</td>\n",
       "      <td>1980</td>\n",
       "      <td>79953539</td>\n",
       "      <td>95.806050</td>\n",
       "    </tr>\n",
       "    <tr>\n",
       "      <th>4</th>\n",
       "      <td>Caddyshack</td>\n",
       "      <td>R</td>\n",
       "      <td>Comedy</td>\n",
       "      <td>1980</td>\n",
       "      <td>July 25, 1980 (United States)</td>\n",
       "      <td>7.3</td>\n",
       "      <td>108000.0</td>\n",
       "      <td>Harold Ramis</td>\n",
       "      <td>Brian Doyle-Murray</td>\n",
       "      <td>Chevy Chase</td>\n",
       "      <td>United States</td>\n",
       "      <td>6000000</td>\n",
       "      <td>39846344</td>\n",
       "      <td>Orion Pictures</td>\n",
       "      <td>98.0</td>\n",
       "      <td>1980</td>\n",
       "      <td>33846344</td>\n",
       "      <td>84.942157</td>\n",
       "    </tr>\n",
       "    <tr>\n",
       "      <th>...</th>\n",
       "      <td>...</td>\n",
       "      <td>...</td>\n",
       "      <td>...</td>\n",
       "      <td>...</td>\n",
       "      <td>...</td>\n",
       "      <td>...</td>\n",
       "      <td>...</td>\n",
       "      <td>...</td>\n",
       "      <td>...</td>\n",
       "      <td>...</td>\n",
       "      <td>...</td>\n",
       "      <td>...</td>\n",
       "      <td>...</td>\n",
       "      <td>...</td>\n",
       "      <td>...</td>\n",
       "      <td>...</td>\n",
       "      <td>...</td>\n",
       "      <td>...</td>\n",
       "    </tr>\n",
       "    <tr>\n",
       "      <th>7648</th>\n",
       "      <td>Bad Boys for Life</td>\n",
       "      <td>R</td>\n",
       "      <td>Action</td>\n",
       "      <td>2020</td>\n",
       "      <td>January 17, 2020 (United States)</td>\n",
       "      <td>6.6</td>\n",
       "      <td>140000.0</td>\n",
       "      <td>Adil El Arbi</td>\n",
       "      <td>Peter Craig</td>\n",
       "      <td>Will Smith</td>\n",
       "      <td>United States</td>\n",
       "      <td>90000000</td>\n",
       "      <td>426505244</td>\n",
       "      <td>Columbia Pictures</td>\n",
       "      <td>124.0</td>\n",
       "      <td>2020</td>\n",
       "      <td>336505244</td>\n",
       "      <td>78.898266</td>\n",
       "    </tr>\n",
       "    <tr>\n",
       "      <th>7649</th>\n",
       "      <td>Sonic the Hedgehog</td>\n",
       "      <td>PG</td>\n",
       "      <td>Action</td>\n",
       "      <td>2020</td>\n",
       "      <td>February 14, 2020 (United States)</td>\n",
       "      <td>6.5</td>\n",
       "      <td>102000.0</td>\n",
       "      <td>Jeff Fowler</td>\n",
       "      <td>Pat Casey</td>\n",
       "      <td>Ben Schwartz</td>\n",
       "      <td>United States</td>\n",
       "      <td>85000000</td>\n",
       "      <td>319715683</td>\n",
       "      <td>Paramount Pictures</td>\n",
       "      <td>99.0</td>\n",
       "      <td>2020</td>\n",
       "      <td>234715683</td>\n",
       "      <td>73.413878</td>\n",
       "    </tr>\n",
       "    <tr>\n",
       "      <th>7650</th>\n",
       "      <td>Dolittle</td>\n",
       "      <td>PG</td>\n",
       "      <td>Adventure</td>\n",
       "      <td>2020</td>\n",
       "      <td>January 17, 2020 (United States)</td>\n",
       "      <td>5.6</td>\n",
       "      <td>53000.0</td>\n",
       "      <td>Stephen Gaghan</td>\n",
       "      <td>Stephen Gaghan</td>\n",
       "      <td>Robert Downey Jr.</td>\n",
       "      <td>United States</td>\n",
       "      <td>175000000</td>\n",
       "      <td>245487753</td>\n",
       "      <td>Universal Pictures</td>\n",
       "      <td>101.0</td>\n",
       "      <td>2020</td>\n",
       "      <td>70487753</td>\n",
       "      <td>28.713348</td>\n",
       "    </tr>\n",
       "    <tr>\n",
       "      <th>7651</th>\n",
       "      <td>The Call of the Wild</td>\n",
       "      <td>PG</td>\n",
       "      <td>Adventure</td>\n",
       "      <td>2020</td>\n",
       "      <td>February 21, 2020 (United States)</td>\n",
       "      <td>6.8</td>\n",
       "      <td>42000.0</td>\n",
       "      <td>Chris Sanders</td>\n",
       "      <td>Michael Green</td>\n",
       "      <td>Harrison Ford</td>\n",
       "      <td>Canada</td>\n",
       "      <td>135000000</td>\n",
       "      <td>111105497</td>\n",
       "      <td>20th Century Studios</td>\n",
       "      <td>100.0</td>\n",
       "      <td>2020</td>\n",
       "      <td>-23894503</td>\n",
       "      <td>-21.506139</td>\n",
       "    </tr>\n",
       "    <tr>\n",
       "      <th>7652</th>\n",
       "      <td>The Eight Hundred</td>\n",
       "      <td>Not Rated</td>\n",
       "      <td>Action</td>\n",
       "      <td>2020</td>\n",
       "      <td>August 28, 2020 (United States)</td>\n",
       "      <td>6.8</td>\n",
       "      <td>3700.0</td>\n",
       "      <td>Hu Guan</td>\n",
       "      <td>Hu Guan</td>\n",
       "      <td>Zhi-zhong Huang</td>\n",
       "      <td>China</td>\n",
       "      <td>80000000</td>\n",
       "      <td>461421559</td>\n",
       "      <td>Beijing Diqi Yinxiang Entertainment</td>\n",
       "      <td>149.0</td>\n",
       "      <td>2020</td>\n",
       "      <td>381421559</td>\n",
       "      <td>82.662275</td>\n",
       "    </tr>\n",
       "  </tbody>\n",
       "</table>\n",
       "<p>5421 rows × 18 columns</p>\n",
       "</div>"
      ],
      "text/plain": [
       "                                                name     rating      genre  \\\n",
       "0                                        The Shining          R      Drama   \n",
       "1                                    The Blue Lagoon          R  Adventure   \n",
       "2     Star Wars: Episode V - The Empire Strikes Back         PG     Action   \n",
       "3                                          Airplane!         PG     Comedy   \n",
       "4                                         Caddyshack          R     Comedy   \n",
       "...                                              ...        ...        ...   \n",
       "7648                               Bad Boys for Life          R     Action   \n",
       "7649                              Sonic the Hedgehog         PG     Action   \n",
       "7650                                        Dolittle         PG  Adventure   \n",
       "7651                            The Call of the Wild         PG  Adventure   \n",
       "7652                               The Eight Hundred  Not Rated     Action   \n",
       "\n",
       "      year                           released  score      votes  \\\n",
       "0     1980      June 13, 1980 (United States)    8.4   927000.0   \n",
       "1     1980       July 2, 1980 (United States)    5.8    65000.0   \n",
       "2     1980      June 20, 1980 (United States)    8.7  1200000.0   \n",
       "3     1980       July 2, 1980 (United States)    7.7   221000.0   \n",
       "4     1980      July 25, 1980 (United States)    7.3   108000.0   \n",
       "...    ...                                ...    ...        ...   \n",
       "7648  2020   January 17, 2020 (United States)    6.6   140000.0   \n",
       "7649  2020  February 14, 2020 (United States)    6.5   102000.0   \n",
       "7650  2020   January 17, 2020 (United States)    5.6    53000.0   \n",
       "7651  2020  February 21, 2020 (United States)    6.8    42000.0   \n",
       "7652  2020    August 28, 2020 (United States)    6.8     3700.0   \n",
       "\n",
       "             director                   writer               star  \\\n",
       "0     Stanley Kubrick             Stephen King     Jack Nicholson   \n",
       "1      Randal Kleiser  Henry De Vere Stacpoole     Brooke Shields   \n",
       "2      Irvin Kershner           Leigh Brackett        Mark Hamill   \n",
       "3        Jim Abrahams             Jim Abrahams        Robert Hays   \n",
       "4        Harold Ramis       Brian Doyle-Murray        Chevy Chase   \n",
       "...               ...                      ...                ...   \n",
       "7648     Adil El Arbi              Peter Craig         Will Smith   \n",
       "7649      Jeff Fowler                Pat Casey       Ben Schwartz   \n",
       "7650   Stephen Gaghan           Stephen Gaghan  Robert Downey Jr.   \n",
       "7651    Chris Sanders            Michael Green      Harrison Ford   \n",
       "7652          Hu Guan                  Hu Guan    Zhi-zhong Huang   \n",
       "\n",
       "             country     budget      gross  \\\n",
       "0     United Kingdom   19000000   46998772   \n",
       "1      United States    4500000   58853106   \n",
       "2      United States   18000000  538375067   \n",
       "3      United States    3500000   83453539   \n",
       "4      United States    6000000   39846344   \n",
       "...              ...        ...        ...   \n",
       "7648   United States   90000000  426505244   \n",
       "7649   United States   85000000  319715683   \n",
       "7650   United States  175000000  245487753   \n",
       "7651          Canada  135000000  111105497   \n",
       "7652           China   80000000  461421559   \n",
       "\n",
       "                                  company  runtime  yearcorrect     profit  \\\n",
       "0                            Warner Bros.    146.0         1980   27998772   \n",
       "1                       Columbia Pictures    104.0         1980   54353106   \n",
       "2                               Lucasfilm    124.0         1980  520375067   \n",
       "3                      Paramount Pictures     88.0         1980   79953539   \n",
       "4                          Orion Pictures     98.0         1980   33846344   \n",
       "...                                   ...      ...          ...        ...   \n",
       "7648                    Columbia Pictures    124.0         2020  336505244   \n",
       "7649                   Paramount Pictures     99.0         2020  234715683   \n",
       "7650                   Universal Pictures    101.0         2020   70487753   \n",
       "7651                 20th Century Studios    100.0         2020  -23894503   \n",
       "7652  Beijing Diqi Yinxiang Entertainment    149.0         2020  381421559   \n",
       "\n",
       "      profit_margin  \n",
       "0         59.573412  \n",
       "1         92.353845  \n",
       "2         96.656606  \n",
       "3         95.806050  \n",
       "4         84.942157  \n",
       "...             ...  \n",
       "7648      78.898266  \n",
       "7649      73.413878  \n",
       "7650      28.713348  \n",
       "7651     -21.506139  \n",
       "7652      82.662275  \n",
       "\n",
       "[5421 rows x 18 columns]"
      ]
     },
     "execution_count": 14,
     "metadata": {},
     "output_type": "execute_result"
    }
   ],
   "source": [
    "# Some of the year and release date column are inconsistent\n",
    "# create yearcorret column\n",
    "\n",
    "df['yearcorrect'] = df['released'].str.extract(pat = '([0-9]{4})').astype(int)\n",
    "\n",
    "\n",
    "\n",
    "# Create a column for profit and profit margin\n",
    "\n",
    "df['profit'] = df['gross'] - df['budget']\n",
    "df['profit_margin'] = df['profit']/df['gross']*100\n",
    "\n",
    "df"
   ]
  },
  {
   "cell_type": "markdown",
   "id": "573ba017",
   "metadata": {},
   "source": [
    "### Drop Columns"
   ]
  },
  {
   "cell_type": "code",
   "execution_count": 15,
   "id": "24991c2f",
   "metadata": {},
   "outputs": [],
   "source": [
    "df.drop(['year'], axis=1, inplace=True)"
   ]
  },
  {
   "cell_type": "markdown",
   "id": "34d820df",
   "metadata": {},
   "source": [
    "***\n",
    "## Exploratory Data Analysis\n"
   ]
  },
  {
   "cell_type": "code",
   "execution_count": 16,
   "id": "45ff53e7",
   "metadata": {
    "scrolled": false
   },
   "outputs": [
    {
     "data": {
      "text/html": [
       "<div>\n",
       "<style scoped>\n",
       "    .dataframe tbody tr th:only-of-type {\n",
       "        vertical-align: middle;\n",
       "    }\n",
       "\n",
       "    .dataframe tbody tr th {\n",
       "        vertical-align: top;\n",
       "    }\n",
       "\n",
       "    .dataframe thead th {\n",
       "        text-align: right;\n",
       "    }\n",
       "</style>\n",
       "<table border=\"1\" class=\"dataframe\">\n",
       "  <thead>\n",
       "    <tr style=\"text-align: right;\">\n",
       "      <th></th>\n",
       "      <th>name</th>\n",
       "      <th>rating</th>\n",
       "      <th>genre</th>\n",
       "      <th>released</th>\n",
       "      <th>score</th>\n",
       "      <th>votes</th>\n",
       "      <th>director</th>\n",
       "      <th>writer</th>\n",
       "      <th>star</th>\n",
       "      <th>country</th>\n",
       "      <th>budget</th>\n",
       "      <th>gross</th>\n",
       "      <th>company</th>\n",
       "      <th>runtime</th>\n",
       "      <th>yearcorrect</th>\n",
       "      <th>profit</th>\n",
       "      <th>profit_margin</th>\n",
       "    </tr>\n",
       "  </thead>\n",
       "  <tbody>\n",
       "    <tr>\n",
       "      <th>5114</th>\n",
       "      <td>Paranormal Activity</td>\n",
       "      <td>R</td>\n",
       "      <td>Horror</td>\n",
       "      <td>October 16, 2009 (United States)</td>\n",
       "      <td>6.3</td>\n",
       "      <td>225000.0</td>\n",
       "      <td>Oren Peli</td>\n",
       "      <td>Oren Peli</td>\n",
       "      <td>Katie Featherston</td>\n",
       "      <td>United States</td>\n",
       "      <td>15000</td>\n",
       "      <td>193355800</td>\n",
       "      <td>Solana Films</td>\n",
       "      <td>86.0</td>\n",
       "      <td>2009</td>\n",
       "      <td>193340800</td>\n",
       "      <td>9.999224e+01</td>\n",
       "    </tr>\n",
       "    <tr>\n",
       "      <th>3459</th>\n",
       "      <td>The Blair Witch Project</td>\n",
       "      <td>R</td>\n",
       "      <td>Horror</td>\n",
       "      <td>July 30, 1999 (United States)</td>\n",
       "      <td>6.5</td>\n",
       "      <td>239000.0</td>\n",
       "      <td>Daniel Myrick</td>\n",
       "      <td>Daniel Myrick</td>\n",
       "      <td>Heather Donahue</td>\n",
       "      <td>United States</td>\n",
       "      <td>60000</td>\n",
       "      <td>248639099</td>\n",
       "      <td>Haxan Films</td>\n",
       "      <td>81.0</td>\n",
       "      <td>1999</td>\n",
       "      <td>248579099</td>\n",
       "      <td>9.997587e+01</td>\n",
       "    </tr>\n",
       "    <tr>\n",
       "      <th>6815</th>\n",
       "      <td>The Gallows</td>\n",
       "      <td>R</td>\n",
       "      <td>Horror</td>\n",
       "      <td>July 10, 2015 (United States)</td>\n",
       "      <td>4.3</td>\n",
       "      <td>20000.0</td>\n",
       "      <td>Travis Cluff</td>\n",
       "      <td>Chris Lofing</td>\n",
       "      <td>Reese Mishler</td>\n",
       "      <td>United States</td>\n",
       "      <td>100000</td>\n",
       "      <td>42964410</td>\n",
       "      <td>New Line Cinema</td>\n",
       "      <td>81.0</td>\n",
       "      <td>2015</td>\n",
       "      <td>42864410</td>\n",
       "      <td>9.976725e+01</td>\n",
       "    </tr>\n",
       "    <tr>\n",
       "      <th>2093</th>\n",
       "      <td>El Mariachi</td>\n",
       "      <td>R</td>\n",
       "      <td>Action</td>\n",
       "      <td>February 26, 1993 (United States)</td>\n",
       "      <td>6.9</td>\n",
       "      <td>64000.0</td>\n",
       "      <td>Robert Rodriguez</td>\n",
       "      <td>Robert Rodriguez</td>\n",
       "      <td>Carlos Gallardo</td>\n",
       "      <td>Mexico</td>\n",
       "      <td>7000</td>\n",
       "      <td>2040920</td>\n",
       "      <td>Columbia Pictures</td>\n",
       "      <td>81.0</td>\n",
       "      <td>1993</td>\n",
       "      <td>2033920</td>\n",
       "      <td>9.965702e+01</td>\n",
       "    </tr>\n",
       "    <tr>\n",
       "      <th>5154</th>\n",
       "      <td>Once</td>\n",
       "      <td>R</td>\n",
       "      <td>Drama</td>\n",
       "      <td>June 15, 2007 (United States)</td>\n",
       "      <td>7.8</td>\n",
       "      <td>112000.0</td>\n",
       "      <td>John Carney</td>\n",
       "      <td>John Carney</td>\n",
       "      <td>Glen Hansard</td>\n",
       "      <td>Ireland</td>\n",
       "      <td>150000</td>\n",
       "      <td>20936722</td>\n",
       "      <td>Bórd Scannán na hÉireann</td>\n",
       "      <td>86.0</td>\n",
       "      <td>2007</td>\n",
       "      <td>20786722</td>\n",
       "      <td>9.928356e+01</td>\n",
       "    </tr>\n",
       "    <tr>\n",
       "      <th>...</th>\n",
       "      <td>...</td>\n",
       "      <td>...</td>\n",
       "      <td>...</td>\n",
       "      <td>...</td>\n",
       "      <td>...</td>\n",
       "      <td>...</td>\n",
       "      <td>...</td>\n",
       "      <td>...</td>\n",
       "      <td>...</td>\n",
       "      <td>...</td>\n",
       "      <td>...</td>\n",
       "      <td>...</td>\n",
       "      <td>...</td>\n",
       "      <td>...</td>\n",
       "      <td>...</td>\n",
       "      <td>...</td>\n",
       "      <td>...</td>\n",
       "    </tr>\n",
       "    <tr>\n",
       "      <th>3413</th>\n",
       "      <td>Savior</td>\n",
       "      <td>R</td>\n",
       "      <td>Drama</td>\n",
       "      <td>November 20, 1998 (United States)</td>\n",
       "      <td>7.3</td>\n",
       "      <td>11000.0</td>\n",
       "      <td>Predrag Antonijevic</td>\n",
       "      <td>Robert Orr</td>\n",
       "      <td>Dennis Quaid</td>\n",
       "      <td>United States</td>\n",
       "      <td>10000000</td>\n",
       "      <td>14328</td>\n",
       "      <td>Initial Entertainment Group (IEG)</td>\n",
       "      <td>103.0</td>\n",
       "      <td>1998</td>\n",
       "      <td>-9985672</td>\n",
       "      <td>-6.969341e+04</td>\n",
       "    </tr>\n",
       "    <tr>\n",
       "      <th>1898</th>\n",
       "      <td>The Lovers on the Bridge</td>\n",
       "      <td>R</td>\n",
       "      <td>Drama</td>\n",
       "      <td>July 2, 1999 (United States)</td>\n",
       "      <td>7.6</td>\n",
       "      <td>13000.0</td>\n",
       "      <td>Leos Carax</td>\n",
       "      <td>Leos Carax</td>\n",
       "      <td>Juliette Binoche</td>\n",
       "      <td>France</td>\n",
       "      <td>28000000</td>\n",
       "      <td>29679</td>\n",
       "      <td>Films A2</td>\n",
       "      <td>125.0</td>\n",
       "      <td>1999</td>\n",
       "      <td>-27970321</td>\n",
       "      <td>-9.424280e+04</td>\n",
       "    </tr>\n",
       "    <tr>\n",
       "      <th>2434</th>\n",
       "      <td>Philadelphia Experiment II</td>\n",
       "      <td>PG-13</td>\n",
       "      <td>Action</td>\n",
       "      <td>June 4, 1994 (South Korea)</td>\n",
       "      <td>4.5</td>\n",
       "      <td>1900.0</td>\n",
       "      <td>Stephen Cornwell</td>\n",
       "      <td>Wallace C. Bennett</td>\n",
       "      <td>Brad Johnson</td>\n",
       "      <td>United States</td>\n",
       "      <td>5000000</td>\n",
       "      <td>2970</td>\n",
       "      <td>Trimark Pictures</td>\n",
       "      <td>97.0</td>\n",
       "      <td>1994</td>\n",
       "      <td>-4997030</td>\n",
       "      <td>-1.682502e+05</td>\n",
       "    </tr>\n",
       "    <tr>\n",
       "      <th>3681</th>\n",
       "      <td>Ginger Snaps</td>\n",
       "      <td>Not Rated</td>\n",
       "      <td>Drama</td>\n",
       "      <td>May 11, 2001 (Canada)</td>\n",
       "      <td>6.8</td>\n",
       "      <td>43000.0</td>\n",
       "      <td>John Fawcett</td>\n",
       "      <td>Karen Walton</td>\n",
       "      <td>Emily Perkins</td>\n",
       "      <td>Canada</td>\n",
       "      <td>5000000</td>\n",
       "      <td>2554</td>\n",
       "      <td>Copperheart Entertainment</td>\n",
       "      <td>108.0</td>\n",
       "      <td>2001</td>\n",
       "      <td>-4997446</td>\n",
       "      <td>-1.956713e+05</td>\n",
       "    </tr>\n",
       "    <tr>\n",
       "      <th>3203</th>\n",
       "      <td>Trojan War</td>\n",
       "      <td>PG-13</td>\n",
       "      <td>Comedy</td>\n",
       "      <td>October 1, 1997 (Brazil)</td>\n",
       "      <td>5.7</td>\n",
       "      <td>5800.0</td>\n",
       "      <td>George Huang</td>\n",
       "      <td>Andy Burg</td>\n",
       "      <td>Will Friedle</td>\n",
       "      <td>United States</td>\n",
       "      <td>15000000</td>\n",
       "      <td>309</td>\n",
       "      <td>Daybreak</td>\n",
       "      <td>85.0</td>\n",
       "      <td>1997</td>\n",
       "      <td>-14999691</td>\n",
       "      <td>-4.854269e+06</td>\n",
       "    </tr>\n",
       "  </tbody>\n",
       "</table>\n",
       "<p>5421 rows × 17 columns</p>\n",
       "</div>"
      ],
      "text/plain": [
       "                            name     rating   genre  \\\n",
       "5114         Paranormal Activity          R  Horror   \n",
       "3459     The Blair Witch Project          R  Horror   \n",
       "6815                 The Gallows          R  Horror   \n",
       "2093                 El Mariachi          R  Action   \n",
       "5154                        Once          R   Drama   \n",
       "...                          ...        ...     ...   \n",
       "3413                      Savior          R   Drama   \n",
       "1898    The Lovers on the Bridge          R   Drama   \n",
       "2434  Philadelphia Experiment II      PG-13  Action   \n",
       "3681                Ginger Snaps  Not Rated   Drama   \n",
       "3203                  Trojan War      PG-13  Comedy   \n",
       "\n",
       "                               released  score     votes             director  \\\n",
       "5114   October 16, 2009 (United States)    6.3  225000.0            Oren Peli   \n",
       "3459      July 30, 1999 (United States)    6.5  239000.0        Daniel Myrick   \n",
       "6815      July 10, 2015 (United States)    4.3   20000.0         Travis Cluff   \n",
       "2093  February 26, 1993 (United States)    6.9   64000.0     Robert Rodriguez   \n",
       "5154      June 15, 2007 (United States)    7.8  112000.0          John Carney   \n",
       "...                                 ...    ...       ...                  ...   \n",
       "3413  November 20, 1998 (United States)    7.3   11000.0  Predrag Antonijevic   \n",
       "1898       July 2, 1999 (United States)    7.6   13000.0           Leos Carax   \n",
       "2434         June 4, 1994 (South Korea)    4.5    1900.0     Stephen Cornwell   \n",
       "3681              May 11, 2001 (Canada)    6.8   43000.0         John Fawcett   \n",
       "3203           October 1, 1997 (Brazil)    5.7    5800.0         George Huang   \n",
       "\n",
       "                  writer               star        country    budget  \\\n",
       "5114           Oren Peli  Katie Featherston  United States     15000   \n",
       "3459       Daniel Myrick    Heather Donahue  United States     60000   \n",
       "6815        Chris Lofing      Reese Mishler  United States    100000   \n",
       "2093    Robert Rodriguez    Carlos Gallardo         Mexico      7000   \n",
       "5154         John Carney       Glen Hansard        Ireland    150000   \n",
       "...                  ...                ...            ...       ...   \n",
       "3413          Robert Orr       Dennis Quaid  United States  10000000   \n",
       "1898          Leos Carax   Juliette Binoche         France  28000000   \n",
       "2434  Wallace C. Bennett       Brad Johnson  United States   5000000   \n",
       "3681        Karen Walton      Emily Perkins         Canada   5000000   \n",
       "3203           Andy Burg       Will Friedle  United States  15000000   \n",
       "\n",
       "          gross                            company  runtime  yearcorrect  \\\n",
       "5114  193355800                       Solana Films     86.0         2009   \n",
       "3459  248639099                        Haxan Films     81.0         1999   \n",
       "6815   42964410                    New Line Cinema     81.0         2015   \n",
       "2093    2040920                  Columbia Pictures     81.0         1993   \n",
       "5154   20936722           Bórd Scannán na hÉireann     86.0         2007   \n",
       "...         ...                                ...      ...          ...   \n",
       "3413      14328  Initial Entertainment Group (IEG)    103.0         1998   \n",
       "1898      29679                           Films A2    125.0         1999   \n",
       "2434       2970                   Trimark Pictures     97.0         1994   \n",
       "3681       2554          Copperheart Entertainment    108.0         2001   \n",
       "3203        309                           Daybreak     85.0         1997   \n",
       "\n",
       "         profit  profit_margin  \n",
       "5114  193340800   9.999224e+01  \n",
       "3459  248579099   9.997587e+01  \n",
       "6815   42864410   9.976725e+01  \n",
       "2093    2033920   9.965702e+01  \n",
       "5154   20786722   9.928356e+01  \n",
       "...         ...            ...  \n",
       "3413   -9985672  -6.969341e+04  \n",
       "1898  -27970321  -9.424280e+04  \n",
       "2434   -4997030  -1.682502e+05  \n",
       "3681   -4997446  -1.956713e+05  \n",
       "3203  -14999691  -4.854269e+06  \n",
       "\n",
       "[5421 rows x 17 columns]"
      ]
     },
     "execution_count": 16,
     "metadata": {},
     "output_type": "execute_result"
    }
   ],
   "source": [
    "# Order our Data a little bit to see\n",
    "\n",
    "df.sort_values(by=['profit_margin'], inplace=False, ascending=False)\n",
    "\n",
    "#if you want to see all your data\n",
    "#pd.set_option('display.max_rows',None)"
   ]
  },
  {
   "cell_type": "markdown",
   "id": "3a44c0d0",
   "metadata": {
    "scrolled": true
   },
   "source": [
    "***\n",
    "## Q1:  Does a higher budget results in higher revenue and profit?"
   ]
  },
  {
   "cell_type": "code",
   "execution_count": 17,
   "id": "738e3ba1",
   "metadata": {
    "scrolled": true
   },
   "outputs": [
    {
     "data": {
      "text/html": [
       "<div>\n",
       "<style scoped>\n",
       "    .dataframe tbody tr th:only-of-type {\n",
       "        vertical-align: middle;\n",
       "    }\n",
       "\n",
       "    .dataframe tbody tr th {\n",
       "        vertical-align: top;\n",
       "    }\n",
       "\n",
       "    .dataframe thead th {\n",
       "        text-align: right;\n",
       "    }\n",
       "</style>\n",
       "<table border=\"1\" class=\"dataframe\">\n",
       "  <thead>\n",
       "    <tr style=\"text-align: right;\">\n",
       "      <th></th>\n",
       "      <th>score</th>\n",
       "      <th>votes</th>\n",
       "      <th>budget</th>\n",
       "      <th>gross</th>\n",
       "      <th>runtime</th>\n",
       "      <th>yearcorrect</th>\n",
       "      <th>profit</th>\n",
       "      <th>profit_margin</th>\n",
       "    </tr>\n",
       "  </thead>\n",
       "  <tbody>\n",
       "    <tr>\n",
       "      <th>count</th>\n",
       "      <td>5421.000000</td>\n",
       "      <td>5.421000e+03</td>\n",
       "      <td>5.421000e+03</td>\n",
       "      <td>5.421000e+03</td>\n",
       "      <td>5421.000000</td>\n",
       "      <td>5421.000000</td>\n",
       "      <td>5.421000e+03</td>\n",
       "      <td>5.421000e+03</td>\n",
       "    </tr>\n",
       "    <tr>\n",
       "      <th>mean</th>\n",
       "      <td>6.392455</td>\n",
       "      <td>1.150661e+05</td>\n",
       "      <td>3.600917e+07</td>\n",
       "      <td>1.032297e+08</td>\n",
       "      <td>108.152739</td>\n",
       "      <td>2001.814794</td>\n",
       "      <td>6.722048e+07</td>\n",
       "      <td>-1.221674e+03</td>\n",
       "    </tr>\n",
       "    <tr>\n",
       "      <th>std</th>\n",
       "      <td>0.962730</td>\n",
       "      <td>1.844073e+05</td>\n",
       "      <td>4.157337e+07</td>\n",
       "      <td>1.873027e+08</td>\n",
       "      <td>18.115698</td>\n",
       "      <td>10.550774</td>\n",
       "      <td>1.590042e+08</td>\n",
       "      <td>6.607391e+04</td>\n",
       "    </tr>\n",
       "    <tr>\n",
       "      <th>min</th>\n",
       "      <td>1.900000</td>\n",
       "      <td>1.950000e+02</td>\n",
       "      <td>6.000000e+03</td>\n",
       "      <td>3.090000e+02</td>\n",
       "      <td>63.000000</td>\n",
       "      <td>1980.000000</td>\n",
       "      <td>-1.580311e+08</td>\n",
       "      <td>-4.854269e+06</td>\n",
       "    </tr>\n",
       "    <tr>\n",
       "      <th>25%</th>\n",
       "      <td>5.800000</td>\n",
       "      <td>1.900000e+04</td>\n",
       "      <td>1.000000e+07</td>\n",
       "      <td>1.073640e+07</td>\n",
       "      <td>95.000000</td>\n",
       "      <td>1993.000000</td>\n",
       "      <td>-3.189887e+06</td>\n",
       "      <td>-3.806192e+01</td>\n",
       "    </tr>\n",
       "    <tr>\n",
       "      <th>50%</th>\n",
       "      <td>6.500000</td>\n",
       "      <td>5.200000e+04</td>\n",
       "      <td>2.180000e+07</td>\n",
       "      <td>3.686941e+07</td>\n",
       "      <td>105.000000</td>\n",
       "      <td>2002.000000</td>\n",
       "      <td>1.385152e+07</td>\n",
       "      <td>4.554424e+01</td>\n",
       "    </tr>\n",
       "    <tr>\n",
       "      <th>75%</th>\n",
       "      <td>7.100000</td>\n",
       "      <td>1.290000e+05</td>\n",
       "      <td>4.500000e+07</td>\n",
       "      <td>1.124625e+08</td>\n",
       "      <td>118.000000</td>\n",
       "      <td>2011.000000</td>\n",
       "      <td>7.025820e+07</td>\n",
       "      <td>7.273635e+01</td>\n",
       "    </tr>\n",
       "    <tr>\n",
       "      <th>max</th>\n",
       "      <td>9.300000</td>\n",
       "      <td>2.400000e+06</td>\n",
       "      <td>3.560000e+08</td>\n",
       "      <td>2.847246e+09</td>\n",
       "      <td>271.000000</td>\n",
       "      <td>2020.000000</td>\n",
       "      <td>2.610246e+09</td>\n",
       "      <td>9.999224e+01</td>\n",
       "    </tr>\n",
       "  </tbody>\n",
       "</table>\n",
       "</div>"
      ],
      "text/plain": [
       "             score         votes        budget         gross      runtime  \\\n",
       "count  5421.000000  5.421000e+03  5.421000e+03  5.421000e+03  5421.000000   \n",
       "mean      6.392455  1.150661e+05  3.600917e+07  1.032297e+08   108.152739   \n",
       "std       0.962730  1.844073e+05  4.157337e+07  1.873027e+08    18.115698   \n",
       "min       1.900000  1.950000e+02  6.000000e+03  3.090000e+02    63.000000   \n",
       "25%       5.800000  1.900000e+04  1.000000e+07  1.073640e+07    95.000000   \n",
       "50%       6.500000  5.200000e+04  2.180000e+07  3.686941e+07   105.000000   \n",
       "75%       7.100000  1.290000e+05  4.500000e+07  1.124625e+08   118.000000   \n",
       "max       9.300000  2.400000e+06  3.560000e+08  2.847246e+09   271.000000   \n",
       "\n",
       "       yearcorrect        profit  profit_margin  \n",
       "count  5421.000000  5.421000e+03   5.421000e+03  \n",
       "mean   2001.814794  6.722048e+07  -1.221674e+03  \n",
       "std      10.550774  1.590042e+08   6.607391e+04  \n",
       "min    1980.000000 -1.580311e+08  -4.854269e+06  \n",
       "25%    1993.000000 -3.189887e+06  -3.806192e+01  \n",
       "50%    2002.000000  1.385152e+07   4.554424e+01  \n",
       "75%    2011.000000  7.025820e+07   7.273635e+01  \n",
       "max    2020.000000  2.610246e+09   9.999224e+01  "
      ]
     },
     "execution_count": 17,
     "metadata": {},
     "output_type": "execute_result"
    }
   ],
   "source": [
    "df.describe()"
   ]
  },
  {
   "cell_type": "code",
   "execution_count": 18,
   "id": "d7b73320",
   "metadata": {
    "scrolled": true
   },
   "outputs": [
    {
     "data": {
      "image/png": "[encoded data removed]",
      "text/plain": [
       "<Figure size 576x360 with 1 Axes>"
      ]
     },
     "metadata": {
      "needs_background": "light"
     },
     "output_type": "display_data"
    }
   ],
   "source": [
    "# Budget\n",
    "x_ticks = np.arange(1.000000e+00,5.000000e+08,5.000000e+07)\n",
    "\n",
    "df['budget'].hist(bins=x_ticks, figsize=(8,5))\n",
    "plt.title(\"Bar Chart of Movies Budget\")\n",
    "plt.xlabel(\"Budget (hundred million)\")\n",
    "plt.xticks(x_ticks)\n",
    "plt.ylabel(\"Number of Movies\");"
   ]
  },
  {
   "cell_type": "code",
   "execution_count": 19,
   "id": "e00c3c59",
   "metadata": {},
   "outputs": [
    {
     "data": {
      "image/png": "[encoded data removed]",
      "text/plain": [
       "<Figure size 576x360 with 1 Axes>"
      ]
     },
     "metadata": {
      "needs_background": "light"
     },
     "output_type": "display_data"
    }
   ],
   "source": [
    "# Gross\n",
    "x_ticks = np.arange(0.000000e+00,3.000000e+09,5.000000e+08)\n",
    "\n",
    "df['gross'].hist(bins=x_ticks, figsize=(8,5))\n",
    "plt.title(\"Bar Chart of Movies Revenue\")\n",
    "plt.xlabel(\"Gross (billion)\")\n",
    "plt.xticks(x_ticks)\n",
    "plt.ylabel(\"Number of Movie\");"
   ]
  },
  {
   "cell_type": "code",
   "execution_count": 58,
   "id": "f40e0d28",
   "metadata": {
    "scrolled": false
   },
   "outputs": [
    {
     "data": {
      "image/png": "[encoded data removed]",
      "text/plain": [
       "<Figure size 576x432 with 1 Axes>"
      ]
     },
     "metadata": {
      "needs_background": "light"
     },
     "output_type": "display_data"
    }
   ],
   "source": [
    "# Plot budget vs Gross using matplotlib\n",
    "\n",
    "# Scatter plot with budget vs gross\n",
    "plt.figure(figsize=(8, 6))\n",
    "plt.scatter(x=df['budget'], y=df['gross'], alpha=0.5)\n",
    "plt.title('Budget vs Gross Earnings')\n",
    "plt.xlabel('Gross Earnings (hundred million)')\n",
    "plt.ylabel('Budget for Film')\n",
    "plt.show()"
   ]
  },
  {
   "cell_type": "code",
   "execution_count": 21,
   "id": "3c6f21ce",
   "metadata": {
    "scrolled": false
   },
   "outputs": [
    {
     "data": {
      "image/png": "[encoded data removed]",
      "text/plain": [
       "<Figure size 576x432 with 1 Axes>"
      ]
     },
     "metadata": {
      "needs_background": "light"
     },
     "output_type": "display_data"
    }
   ],
   "source": [
    "# Plot budget vs gross using seaborn\n",
    "\n",
    "# regplot: Plot data and a linear regression model fit.\n",
    "\n",
    "a = sns.regplot(x=\"gross\", y=\"budget\", data=df, scatter_kws={\"color\": \"red\"}, line_kws={\"color\":\"blue\"})\n",
    "a.figure.set_size_inches(8, 6)\n"
   ]
  },
  {
   "cell_type": "code",
   "execution_count": 22,
   "id": "5e98c121",
   "metadata": {},
   "outputs": [
    {
     "data": {
      "image/png": "[encoded data removed]",
      "text/plain": [
       "<Figure size 576x432 with 1 Axes>"
      ]
     },
     "metadata": {
      "needs_background": "light"
     },
     "output_type": "display_data"
    }
   ],
   "source": [
    "# Plot budget vs Profit using seaborn\n",
    "# regplot: Plot data and a linear regression model fit.\n",
    "\n",
    "b = sns.regplot(x=\"profit\", y=\"budget\", data=df, scatter_kws={\"color\": \"red\"}, line_kws={\"color\":\"blue\"})\n",
    "b.figure.set_size_inches(8, 6)\n"
   ]
  },
  {
   "cell_type": "markdown",
   "id": "f5c296e4",
   "metadata": {},
   "source": [
    "### In general, movies with a higher budget results in a higher profit.\n",
    "\n",
    "Lets look at correlation (only work at numeric fields)\n",
    "\n",
    "Correlation is a bivariate analysis that measures the strength of association between two variables and the direction \n",
    "of the relationship.  In terms of the strength of relationship, the value of the correlation coefficient \n",
    "varies between +1 and -1.  A value of ± 1 indicates a perfect degree of association between the two variables.\n",
    "As the correlation coefficient value goes towards 0, the relationship between the two variables will be weaker\n"
   ]
  },
  {
   "cell_type": "code",
   "execution_count": 23,
   "id": "ff7ec909",
   "metadata": {
    "scrolled": true
   },
   "outputs": [
    {
     "data": {
      "text/html": [
       "<div>\n",
       "<style scoped>\n",
       "    .dataframe tbody tr th:only-of-type {\n",
       "        vertical-align: middle;\n",
       "    }\n",
       "\n",
       "    .dataframe tbody tr th {\n",
       "        vertical-align: top;\n",
       "    }\n",
       "\n",
       "    .dataframe thead th {\n",
       "        text-align: right;\n",
       "    }\n",
       "</style>\n",
       "<table border=\"1\" class=\"dataframe\">\n",
       "  <thead>\n",
       "    <tr style=\"text-align: right;\">\n",
       "      <th></th>\n",
       "      <th>score</th>\n",
       "      <th>votes</th>\n",
       "      <th>budget</th>\n",
       "      <th>gross</th>\n",
       "      <th>runtime</th>\n",
       "      <th>yearcorrect</th>\n",
       "      <th>profit</th>\n",
       "      <th>profit_margin</th>\n",
       "    </tr>\n",
       "  </thead>\n",
       "  <tbody>\n",
       "    <tr>\n",
       "      <th>score</th>\n",
       "      <td>1.000000</td>\n",
       "      <td>0.474256</td>\n",
       "      <td>0.072001</td>\n",
       "      <td>0.222556</td>\n",
       "      <td>0.414068</td>\n",
       "      <td>0.061923</td>\n",
       "      <td>0.243340</td>\n",
       "      <td>0.012515</td>\n",
       "    </tr>\n",
       "    <tr>\n",
       "      <th>votes</th>\n",
       "      <td>0.474256</td>\n",
       "      <td>1.000000</td>\n",
       "      <td>0.439675</td>\n",
       "      <td>0.614751</td>\n",
       "      <td>0.352303</td>\n",
       "      <td>0.203098</td>\n",
       "      <td>0.609203</td>\n",
       "      <td>0.011096</td>\n",
       "    </tr>\n",
       "    <tr>\n",
       "      <th>budget</th>\n",
       "      <td>0.072001</td>\n",
       "      <td>0.439675</td>\n",
       "      <td>1.000000</td>\n",
       "      <td>0.740247</td>\n",
       "      <td>0.318695</td>\n",
       "      <td>0.320312</td>\n",
       "      <td>0.610530</td>\n",
       "      <td>0.009937</td>\n",
       "    </tr>\n",
       "    <tr>\n",
       "      <th>gross</th>\n",
       "      <td>0.222556</td>\n",
       "      <td>0.614751</td>\n",
       "      <td>0.740247</td>\n",
       "      <td>1.000000</td>\n",
       "      <td>0.275796</td>\n",
       "      <td>0.268721</td>\n",
       "      <td>0.984428</td>\n",
       "      <td>0.010735</td>\n",
       "    </tr>\n",
       "    <tr>\n",
       "      <th>runtime</th>\n",
       "      <td>0.414068</td>\n",
       "      <td>0.352303</td>\n",
       "      <td>0.318695</td>\n",
       "      <td>0.275796</td>\n",
       "      <td>1.000000</td>\n",
       "      <td>0.075294</td>\n",
       "      <td>0.241554</td>\n",
       "      <td>0.018810</td>\n",
       "    </tr>\n",
       "    <tr>\n",
       "      <th>yearcorrect</th>\n",
       "      <td>0.061923</td>\n",
       "      <td>0.203098</td>\n",
       "      <td>0.320312</td>\n",
       "      <td>0.268721</td>\n",
       "      <td>0.075294</td>\n",
       "      <td>1.000000</td>\n",
       "      <td>0.232797</td>\n",
       "      <td>0.008001</td>\n",
       "    </tr>\n",
       "    <tr>\n",
       "      <th>profit</th>\n",
       "      <td>0.243340</td>\n",
       "      <td>0.609203</td>\n",
       "      <td>0.610530</td>\n",
       "      <td>0.984428</td>\n",
       "      <td>0.241554</td>\n",
       "      <td>0.232797</td>\n",
       "      <td>1.000000</td>\n",
       "      <td>0.010048</td>\n",
       "    </tr>\n",
       "    <tr>\n",
       "      <th>profit_margin</th>\n",
       "      <td>0.012515</td>\n",
       "      <td>0.011096</td>\n",
       "      <td>0.009937</td>\n",
       "      <td>0.010735</td>\n",
       "      <td>0.018810</td>\n",
       "      <td>0.008001</td>\n",
       "      <td>0.010048</td>\n",
       "      <td>1.000000</td>\n",
       "    </tr>\n",
       "  </tbody>\n",
       "</table>\n",
       "</div>"
      ],
      "text/plain": [
       "                  score     votes    budget     gross   runtime  yearcorrect  \\\n",
       "score          1.000000  0.474256  0.072001  0.222556  0.414068     0.061923   \n",
       "votes          0.474256  1.000000  0.439675  0.614751  0.352303     0.203098   \n",
       "budget         0.072001  0.439675  1.000000  0.740247  0.318695     0.320312   \n",
       "gross          0.222556  0.614751  0.740247  1.000000  0.275796     0.268721   \n",
       "runtime        0.414068  0.352303  0.318695  0.275796  1.000000     0.075294   \n",
       "yearcorrect    0.061923  0.203098  0.320312  0.268721  0.075294     1.000000   \n",
       "profit         0.243340  0.609203  0.610530  0.984428  0.241554     0.232797   \n",
       "profit_margin  0.012515  0.011096  0.009937  0.010735  0.018810     0.008001   \n",
       "\n",
       "                 profit  profit_margin  \n",
       "score          0.243340       0.012515  \n",
       "votes          0.609203       0.011096  \n",
       "budget         0.610530       0.009937  \n",
       "gross          0.984428       0.010735  \n",
       "runtime        0.241554       0.018810  \n",
       "yearcorrect    0.232797       0.008001  \n",
       "profit         1.000000       0.010048  \n",
       "profit_margin  0.010048       1.000000  "
      ]
     },
     "execution_count": 23,
     "metadata": {},
     "output_type": "execute_result"
    }
   ],
   "source": [
    "#Pearson correlation by default \n",
    "df.corr()"
   ]
  },
  {
   "cell_type": "markdown",
   "id": "59d1ddb1",
   "metadata": {},
   "source": [
    "#### WE confirm that we have high correlation between budget and gross 0.740247 \n",
    "#### And between budget and profit 0.610530\n",
    "\n"
   ]
  },
  {
   "cell_type": "code",
   "execution_count": 24,
   "id": "3f757058",
   "metadata": {},
   "outputs": [
    {
     "data": {
      "image/png": "[encoded data removed]",
      "text/plain": [
       "<Figure size 864x576 with 2 Axes>"
      ]
     },
     "metadata": {
      "needs_background": "light"
     },
     "output_type": "display_data"
    }
   ],
   "source": [
    "#lets visualize the heatmap for the pearson correlation\n",
    "\n",
    "correlation_matrix = df.corr()\n",
    "\n",
    "sns.heatmap(correlation_matrix, annot = True,  cmap=\"Blues\")\n",
    "\n",
    "plt.title(\"Correlation matrix for Numeric Features\")\n",
    "\n",
    "plt.xlabel(\"Movie features\")\n",
    "\n",
    "plt.ylabel(\"Movie features\")\n",
    "\n",
    "plt.show()"
   ]
  },
  {
   "cell_type": "code",
   "execution_count": 25,
   "id": "83724e2b",
   "metadata": {},
   "outputs": [
    {
     "data": {
      "text/html": [
       "<div>\n",
       "<style scoped>\n",
       "    .dataframe tbody tr th:only-of-type {\n",
       "        vertical-align: middle;\n",
       "    }\n",
       "\n",
       "    .dataframe tbody tr th {\n",
       "        vertical-align: top;\n",
       "    }\n",
       "\n",
       "    .dataframe thead th {\n",
       "        text-align: right;\n",
       "    }\n",
       "</style>\n",
       "<table border=\"1\" class=\"dataframe\">\n",
       "  <thead>\n",
       "    <tr style=\"text-align: right;\">\n",
       "      <th></th>\n",
       "      <th>budget</th>\n",
       "      <th>gross</th>\n",
       "      <th>profit</th>\n",
       "    </tr>\n",
       "    <tr>\n",
       "      <th>name</th>\n",
       "      <th></th>\n",
       "      <th></th>\n",
       "      <th></th>\n",
       "    </tr>\n",
       "  </thead>\n",
       "  <tbody>\n",
       "    <tr>\n",
       "      <th>Avengers: Endgame</th>\n",
       "      <td>356000000</td>\n",
       "      <td>2797501328</td>\n",
       "      <td>2441501328</td>\n",
       "    </tr>\n",
       "    <tr>\n",
       "      <th>Avengers: Infinity War</th>\n",
       "      <td>321000000</td>\n",
       "      <td>2048359754</td>\n",
       "      <td>1727359754</td>\n",
       "    </tr>\n",
       "    <tr>\n",
       "      <th>Star Wars: Episode VIII - The Last Jedi</th>\n",
       "      <td>317000000</td>\n",
       "      <td>1332698830</td>\n",
       "      <td>1015698830</td>\n",
       "    </tr>\n",
       "    <tr>\n",
       "      <th>The Lion King</th>\n",
       "      <td>305000000</td>\n",
       "      <td>2754448457</td>\n",
       "      <td>2449448457</td>\n",
       "    </tr>\n",
       "    <tr>\n",
       "      <th>Robin Hood</th>\n",
       "      <td>300000000</td>\n",
       "      <td>408162787</td>\n",
       "      <td>108162787</td>\n",
       "    </tr>\n",
       "    <tr>\n",
       "      <th>Justice League</th>\n",
       "      <td>300000000</td>\n",
       "      <td>657926987</td>\n",
       "      <td>357926987</td>\n",
       "    </tr>\n",
       "    <tr>\n",
       "      <th>Pirates of the Caribbean: at World's End</th>\n",
       "      <td>300000000</td>\n",
       "      <td>960996492</td>\n",
       "      <td>660996492</td>\n",
       "    </tr>\n",
       "    <tr>\n",
       "      <th>Godzilla</th>\n",
       "      <td>290000000</td>\n",
       "      <td>903990363</td>\n",
       "      <td>613990363</td>\n",
       "    </tr>\n",
       "    <tr>\n",
       "      <th>The Avengers</th>\n",
       "      <td>280000000</td>\n",
       "      <td>1542200454</td>\n",
       "      <td>1262200454</td>\n",
       "    </tr>\n",
       "    <tr>\n",
       "      <th>Star Wars: Episode IX - The Rise of Skywalker</th>\n",
       "      <td>275000000</td>\n",
       "      <td>1078232589</td>\n",
       "      <td>803232589</td>\n",
       "    </tr>\n",
       "  </tbody>\n",
       "</table>\n",
       "</div>"
      ],
      "text/plain": [
       "                                                  budget       gross  \\\n",
       "name                                                                   \n",
       "Avengers: Endgame                              356000000  2797501328   \n",
       "Avengers: Infinity War                         321000000  2048359754   \n",
       "Star Wars: Episode VIII - The Last Jedi        317000000  1332698830   \n",
       "The Lion King                                  305000000  2754448457   \n",
       "Robin Hood                                     300000000   408162787   \n",
       "Justice League                                 300000000   657926987   \n",
       "Pirates of the Caribbean: at World's End       300000000   960996492   \n",
       "Godzilla                                       290000000   903990363   \n",
       "The Avengers                                   280000000  1542200454   \n",
       "Star Wars: Episode IX - The Rise of Skywalker  275000000  1078232589   \n",
       "\n",
       "                                                   profit  \n",
       "name                                                       \n",
       "Avengers: Endgame                              2441501328  \n",
       "Avengers: Infinity War                         1727359754  \n",
       "Star Wars: Episode VIII - The Last Jedi        1015698830  \n",
       "The Lion King                                  2449448457  \n",
       "Robin Hood                                      108162787  \n",
       "Justice League                                  357926987  \n",
       "Pirates of the Caribbean: at World's End        660996492  \n",
       "Godzilla                                        613990363  \n",
       "The Avengers                                   1262200454  \n",
       "Star Wars: Episode IX - The Rise of Skywalker   803232589  "
      ]
     },
     "execution_count": 25,
     "metadata": {},
     "output_type": "execute_result"
    }
   ],
   "source": [
    "#Let us find out the top 10 movies with highest budget.\n",
    "\n",
    "# Groupby Movie Title and Budget, Revenue and Profit for Top 10 Movies\n",
    "\n",
    "#df[[\"name\",\"budget\"]].sort_values('budget', ascending = False)[:10]\n",
    "\n",
    "blockbuster_grouped = df.groupby('name')[['budget','gross','profit']].sum().sort_values('budget',ascending=False).iloc[:10,:]\n",
    "blockbuster_grouped"
   ]
  },
  {
   "cell_type": "markdown",
   "id": "09f447e1",
   "metadata": {},
   "source": [
    "***\n",
    "## Q2:  What is the most profitable genre?"
   ]
  },
  {
   "cell_type": "code",
   "execution_count": 26,
   "id": "087a7aa6",
   "metadata": {},
   "outputs": [
    {
     "data": {
      "text/plain": [
       "Comedy       1496\n",
       "Action       1415\n",
       "Drama         863\n",
       "Crime         399\n",
       "Adventure     327\n",
       "Biography     311\n",
       "Animation     277\n",
       "Horror        251\n",
       "Fantasy        41\n",
       "Mystery        17\n",
       "Thriller        7\n",
       "Sci-Fi          6\n",
       "Romance         5\n",
       "Family          4\n",
       "Western         2\n",
       "Name: genre, dtype: int64"
      ]
     },
     "execution_count": 26,
     "metadata": {},
     "output_type": "execute_result"
    }
   ],
   "source": [
    "#First let's see the number of movies of each genre in the table\n",
    "\n",
    "df['genre'].value_counts()"
   ]
  },
  {
   "cell_type": "code",
   "execution_count": 27,
   "id": "9456bcd1",
   "metadata": {},
   "outputs": [
    {
     "data": {
      "image/png": "[encoded data removed]",
      "text/plain": [
       "<Figure size 576x432 with 1 Axes>"
      ]
     },
     "metadata": {
      "needs_background": "light"
     },
     "output_type": "display_data"
    }
   ],
   "source": [
    "plt.figure(figsize=[8,6])\n",
    "df['genre'].value_counts().plot.barh()\n",
    "plt.title(\"Bar Chart of Genre Count\")\n",
    "plt.ylabel(\"Genres\")\n",
    "plt.xlabel(\"Count\");"
   ]
  },
  {
   "cell_type": "markdown",
   "id": "2ad10bd6",
   "metadata": {},
   "source": [
    "### The highest genre count is Comedy, Action and Drama. Does that mean they are more profitable?\n",
    "\n",
    "\n",
    "With such unequal values of numbers of genres, let's use the average to observe the profitability of each one"
   ]
  },
  {
   "cell_type": "code",
   "execution_count": 28,
   "id": "19738eaf",
   "metadata": {
    "scrolled": true
   },
   "outputs": [
    {
     "data": {
      "text/plain": [
       "count    5.421000e+03\n",
       "mean     6.722048e+07\n",
       "std      1.590042e+08\n",
       "min     -1.580311e+08\n",
       "25%     -3.189887e+06\n",
       "50%      1.385152e+07\n",
       "75%      7.025820e+07\n",
       "max      2.610246e+09\n",
       "Name: profit, dtype: float64"
      ]
     },
     "execution_count": 28,
     "metadata": {},
     "output_type": "execute_result"
    }
   ],
   "source": [
    "df['profit'].describe()"
   ]
  },
  {
   "cell_type": "code",
   "execution_count": 29,
   "id": "82d026cc",
   "metadata": {},
   "outputs": [
    {
     "data": {
      "text/plain": [
       "67220482.86312489"
      ]
     },
     "execution_count": 29,
     "metadata": {},
     "output_type": "execute_result"
    }
   ],
   "source": [
    "df['profit'].mean()"
   ]
  },
  {
   "cell_type": "code",
   "execution_count": 30,
   "id": "636ca59d",
   "metadata": {},
   "outputs": [
    {
     "data": {
      "text/html": [
       "<div>\n",
       "<style scoped>\n",
       "    .dataframe tbody tr th:only-of-type {\n",
       "        vertical-align: middle;\n",
       "    }\n",
       "\n",
       "    .dataframe tbody tr th {\n",
       "        vertical-align: top;\n",
       "    }\n",
       "\n",
       "    .dataframe thead th {\n",
       "        text-align: right;\n",
       "    }\n",
       "</style>\n",
       "<table border=\"1\" class=\"dataframe\">\n",
       "  <thead>\n",
       "    <tr style=\"text-align: right;\">\n",
       "      <th></th>\n",
       "      <th>gross</th>\n",
       "      <th>profit</th>\n",
       "    </tr>\n",
       "    <tr>\n",
       "      <th>genre</th>\n",
       "      <th></th>\n",
       "      <th></th>\n",
       "    </tr>\n",
       "  </thead>\n",
       "  <tbody>\n",
       "    <tr>\n",
       "      <th>Family</th>\n",
       "      <td>5.185831e+08</td>\n",
       "      <td>4.674581e+08</td>\n",
       "    </tr>\n",
       "    <tr>\n",
       "      <th>Animation</th>\n",
       "      <td>2.811044e+08</td>\n",
       "      <td>2.047810e+08</td>\n",
       "    </tr>\n",
       "    <tr>\n",
       "      <th>Action</th>\n",
       "      <td>1.680232e+08</td>\n",
       "      <td>1.095547e+08</td>\n",
       "    </tr>\n",
       "    <tr>\n",
       "      <th>Adventure</th>\n",
       "      <td>1.332682e+08</td>\n",
       "      <td>8.730933e+07</td>\n",
       "    </tr>\n",
       "    <tr>\n",
       "      <th>Mystery</th>\n",
       "      <td>1.178877e+08</td>\n",
       "      <td>8.601126e+07</td>\n",
       "    </tr>\n",
       "  </tbody>\n",
       "</table>\n",
       "</div>"
      ],
      "text/plain": [
       "                  gross        profit\n",
       "genre                                \n",
       "Family     5.185831e+08  4.674581e+08\n",
       "Animation  2.811044e+08  2.047810e+08\n",
       "Action     1.680232e+08  1.095547e+08\n",
       "Adventure  1.332682e+08  8.730933e+07\n",
       "Mystery    1.178877e+08  8.601126e+07"
      ]
     },
     "execution_count": 30,
     "metadata": {},
     "output_type": "execute_result"
    }
   ],
   "source": [
    "genre_mean = df.groupby('genre')[['gross','profit']].mean().sort_values('profit',ascending=False)\n",
    "genre_mean.query(\"profit > 67220482.86312489\")"
   ]
  },
  {
   "cell_type": "markdown",
   "id": "2157a3af",
   "metadata": {},
   "source": [
    "#### Family, Animation and Action are the most profitable genres.\n"
   ]
  },
  {
   "cell_type": "markdown",
   "id": "1340389f",
   "metadata": {},
   "source": [
    "***\n",
    "## Q3: Which genres are associated with high popularity?\n",
    "\n",
    "\"Popularity is a very important metric here on IMDB. Each model builds their popularity value slightly differently. If you're curious as to the how and why, check out the information below:\n",
    "\n",
    "Movies\n",
    "\n",
    "Number of votes for the day\n",
    "Number of views for the day\n",
    "Number of users who marked it as a \"favourite\" for the day\n",
    "Number of users who added it to their \"watchlist\" for the day\n",
    "Release date\n",
    "**Number of total votes**\n",
    "Previous days score \"\n",
    "\n",
    "source:('<a href=\"https://developers.themoviedb.org/3/getting-started/popularity\"> Imdb popularity </a>')\n",
    "\n",
    "#### In this dataset we only have the number of total votes, so we will use them to define the popularity of movies and genres."
   ]
  },
  {
   "cell_type": "code",
   "execution_count": 31,
   "id": "a3841524",
   "metadata": {
    "scrolled": true
   },
   "outputs": [
    {
     "data": {
      "text/plain": [
       "count    5.421000e+03\n",
       "mean     1.150661e+05\n",
       "std      1.844073e+05\n",
       "min      1.950000e+02\n",
       "25%      1.900000e+04\n",
       "50%      5.200000e+04\n",
       "75%      1.290000e+05\n",
       "max      2.400000e+06\n",
       "Name: votes, dtype: float64"
      ]
     },
     "execution_count": 31,
     "metadata": {},
     "output_type": "execute_result"
    }
   ],
   "source": [
    "df['votes'].describe()"
   ]
  },
  {
   "cell_type": "code",
   "execution_count": 32,
   "id": "c18e3e45",
   "metadata": {},
   "outputs": [
    {
     "data": {
      "text/plain": [
       "115066.12912746725"
      ]
     },
     "execution_count": 32,
     "metadata": {},
     "output_type": "execute_result"
    }
   ],
   "source": [
    "df['votes'].mean()"
   ]
  },
  {
   "cell_type": "code",
   "execution_count": 34,
   "id": "5c538b37",
   "metadata": {},
   "outputs": [
    {
     "data": {
      "text/html": [
       "<div>\n",
       "<style scoped>\n",
       "    .dataframe tbody tr th:only-of-type {\n",
       "        vertical-align: middle;\n",
       "    }\n",
       "\n",
       "    .dataframe tbody tr th {\n",
       "        vertical-align: top;\n",
       "    }\n",
       "\n",
       "    .dataframe thead th {\n",
       "        text-align: right;\n",
       "    }\n",
       "</style>\n",
       "<table border=\"1\" class=\"dataframe\">\n",
       "  <thead>\n",
       "    <tr style=\"text-align: right;\">\n",
       "      <th></th>\n",
       "      <th>votes</th>\n",
       "      <th>profit</th>\n",
       "    </tr>\n",
       "    <tr>\n",
       "      <th>genre</th>\n",
       "      <th></th>\n",
       "      <th></th>\n",
       "    </tr>\n",
       "  </thead>\n",
       "  <tbody>\n",
       "    <tr>\n",
       "      <th>Mystery</th>\n",
       "      <td>266647.058824</td>\n",
       "      <td>8.601126e+07</td>\n",
       "    </tr>\n",
       "    <tr>\n",
       "      <th>Family</th>\n",
       "      <td>173225.000000</td>\n",
       "      <td>4.674581e+08</td>\n",
       "    </tr>\n",
       "    <tr>\n",
       "      <th>Action</th>\n",
       "      <td>163347.154770</td>\n",
       "      <td>1.095547e+08</td>\n",
       "    </tr>\n",
       "    <tr>\n",
       "      <th>Animation</th>\n",
       "      <td>147508.743682</td>\n",
       "      <td>2.047810e+08</td>\n",
       "    </tr>\n",
       "    <tr>\n",
       "      <th>Adventure</th>\n",
       "      <td>123237.440367</td>\n",
       "      <td>8.730933e+07</td>\n",
       "    </tr>\n",
       "    <tr>\n",
       "      <th>Biography</th>\n",
       "      <td>116086.041801</td>\n",
       "      <td>3.595361e+07</td>\n",
       "    </tr>\n",
       "  </tbody>\n",
       "</table>\n",
       "</div>"
      ],
      "text/plain": [
       "                   votes        profit\n",
       "genre                                 \n",
       "Mystery    266647.058824  8.601126e+07\n",
       "Family     173225.000000  4.674581e+08\n",
       "Action     163347.154770  1.095547e+08\n",
       "Animation  147508.743682  2.047810e+08\n",
       "Adventure  123237.440367  8.730933e+07\n",
       "Biography  116086.041801  3.595361e+07"
      ]
     },
     "execution_count": 34,
     "metadata": {},
     "output_type": "execute_result"
    }
   ],
   "source": [
    "votes_mean = df.groupby('genre')[['votes','profit']].mean().sort_values('votes',ascending=False)\n",
    "votes_mean.query(\"votes > 115066.12912746725\")"
   ]
  },
  {
   "cell_type": "markdown",
   "id": "a62a9e93",
   "metadata": {},
   "source": [
    "#### Mistery, Family and Action are the most popular genres.\n",
    "\n",
    "\n",
    "We also see a correlation of number of votes and gross, as well as votes and profit."
   ]
  },
  {
   "cell_type": "code",
   "execution_count": 35,
   "id": "8cde0c09",
   "metadata": {
    "scrolled": false
   },
   "outputs": [
    {
     "data": {
      "image/png": "[encoded data removed]",
      "text/plain": [
       "<Figure size 576x432 with 1 Axes>"
      ]
     },
     "metadata": {
      "needs_background": "light"
     },
     "output_type": "display_data"
    }
   ],
   "source": [
    "c= sns.regplot(x=\"gross\", y=\"votes\", data=df, line_kws={\"color\":\"blue\"})\n",
    "c.figure.set_size_inches(8, 6)\n"
   ]
  },
  {
   "cell_type": "code",
   "execution_count": 36,
   "id": "c8b45df9",
   "metadata": {},
   "outputs": [
    {
     "data": {
      "image/png": "[encoded data removed]",
      "text/plain": [
       "<Figure size 576x432 with 1 Axes>"
      ]
     },
     "metadata": {
      "needs_background": "light"
     },
     "output_type": "display_data"
    }
   ],
   "source": [
    "d= sns.regplot(x=\"profit\", y=\"votes\", data=df, line_kws={\"color\":\"blue\"})\n",
    "d.figure.set_size_inches(8, 6)\n"
   ]
  },
  {
   "cell_type": "markdown",
   "id": "5a919a26",
   "metadata": {},
   "source": [
    "***\n",
    "## Q4: Which director produces the highest gross movies?\n"
   ]
  },
  {
   "cell_type": "code",
   "execution_count": 37,
   "id": "9d47096c",
   "metadata": {},
   "outputs": [
    {
     "data": {
      "text/plain": [
       "Woody Allen          33\n",
       "Clint Eastwood       31\n",
       "Steven Spielberg     27\n",
       "Steven Soderbergh    23\n",
       "Ridley Scott         23\n",
       "                     ..\n",
       "Takao Okawara         1\n",
       "Mark Tarlov           1\n",
       "Michael Corrente      1\n",
       "Gary Halvorson        1\n",
       "Hu Guan               1\n",
       "Name: director, Length: 2063, dtype: int64"
      ]
     },
     "execution_count": 37,
     "metadata": {},
     "output_type": "execute_result"
    }
   ],
   "source": [
    "df['director'].value_counts()"
   ]
  },
  {
   "cell_type": "code",
   "execution_count": 38,
   "id": "6b55d838",
   "metadata": {},
   "outputs": [
    {
     "data": {
      "text/html": [
       "<div>\n",
       "<style scoped>\n",
       "    .dataframe tbody tr th:only-of-type {\n",
       "        vertical-align: middle;\n",
       "    }\n",
       "\n",
       "    .dataframe tbody tr th {\n",
       "        vertical-align: top;\n",
       "    }\n",
       "\n",
       "    .dataframe thead th {\n",
       "        text-align: right;\n",
       "    }\n",
       "</style>\n",
       "<table border=\"1\" class=\"dataframe\">\n",
       "  <thead>\n",
       "    <tr style=\"text-align: right;\">\n",
       "      <th></th>\n",
       "      <th>gross</th>\n",
       "      <th>profit</th>\n",
       "    </tr>\n",
       "    <tr>\n",
       "      <th>director</th>\n",
       "      <th></th>\n",
       "      <th></th>\n",
       "    </tr>\n",
       "  </thead>\n",
       "  <tbody>\n",
       "    <tr>\n",
       "      <th>Anthony Russo</th>\n",
       "      <td>1.368850e+09</td>\n",
       "      <td>1.138650e+09</td>\n",
       "    </tr>\n",
       "    <tr>\n",
       "      <th>Kyle Balda</th>\n",
       "      <td>1.097122e+09</td>\n",
       "      <td>1.020122e+09</td>\n",
       "    </tr>\n",
       "    <tr>\n",
       "      <th>Josh Cooley</th>\n",
       "      <td>1.073395e+09</td>\n",
       "      <td>8.733946e+08</td>\n",
       "    </tr>\n",
       "    <tr>\n",
       "      <th>Chris Buck</th>\n",
       "      <td>1.059909e+09</td>\n",
       "      <td>9.165756e+08</td>\n",
       "    </tr>\n",
       "    <tr>\n",
       "      <th>Joss Whedon</th>\n",
       "      <td>9.873567e+08</td>\n",
       "      <td>8.176901e+08</td>\n",
       "    </tr>\n",
       "  </tbody>\n",
       "</table>\n",
       "</div>"
      ],
      "text/plain": [
       "                      gross        profit\n",
       "director                                 \n",
       "Anthony Russo  1.368850e+09  1.138650e+09\n",
       "Kyle Balda     1.097122e+09  1.020122e+09\n",
       "Josh Cooley    1.073395e+09  8.733946e+08\n",
       "Chris Buck     1.059909e+09  9.165756e+08\n",
       "Joss Whedon    9.873567e+08  8.176901e+08"
      ]
     },
     "execution_count": 38,
     "metadata": {},
     "output_type": "execute_result"
    }
   ],
   "source": [
    "df.groupby('director')[['gross','profit']].mean().sort_values('gross', ascending=False).head(5)"
   ]
  },
  {
   "cell_type": "code",
   "execution_count": 39,
   "id": "45bd1ae7",
   "metadata": {},
   "outputs": [
    {
     "data": {
      "text/html": [
       "<div>\n",
       "<style scoped>\n",
       "    .dataframe tbody tr th:only-of-type {\n",
       "        vertical-align: middle;\n",
       "    }\n",
       "\n",
       "    .dataframe tbody tr th {\n",
       "        vertical-align: top;\n",
       "    }\n",
       "\n",
       "    .dataframe thead th {\n",
       "        text-align: right;\n",
       "    }\n",
       "</style>\n",
       "<table border=\"1\" class=\"dataframe\">\n",
       "  <thead>\n",
       "    <tr style=\"text-align: right;\">\n",
       "      <th></th>\n",
       "      <th>gross</th>\n",
       "      <th>profit</th>\n",
       "    </tr>\n",
       "    <tr>\n",
       "      <th>director</th>\n",
       "      <th></th>\n",
       "      <th></th>\n",
       "    </tr>\n",
       "  </thead>\n",
       "  <tbody>\n",
       "    <tr>\n",
       "      <th>Anthony Russo</th>\n",
       "      <td>1.368850e+09</td>\n",
       "      <td>1.138650e+09</td>\n",
       "    </tr>\n",
       "    <tr>\n",
       "      <th>Kyle Balda</th>\n",
       "      <td>1.097122e+09</td>\n",
       "      <td>1.020122e+09</td>\n",
       "    </tr>\n",
       "    <tr>\n",
       "      <th>Chris Buck</th>\n",
       "      <td>1.059909e+09</td>\n",
       "      <td>9.165756e+08</td>\n",
       "    </tr>\n",
       "    <tr>\n",
       "      <th>Josh Cooley</th>\n",
       "      <td>1.073395e+09</td>\n",
       "      <td>8.733946e+08</td>\n",
       "    </tr>\n",
       "    <tr>\n",
       "      <th>Joss Whedon</th>\n",
       "      <td>9.873567e+08</td>\n",
       "      <td>8.176901e+08</td>\n",
       "    </tr>\n",
       "  </tbody>\n",
       "</table>\n",
       "</div>"
      ],
      "text/plain": [
       "                      gross        profit\n",
       "director                                 \n",
       "Anthony Russo  1.368850e+09  1.138650e+09\n",
       "Kyle Balda     1.097122e+09  1.020122e+09\n",
       "Chris Buck     1.059909e+09  9.165756e+08\n",
       "Josh Cooley    1.073395e+09  8.733946e+08\n",
       "Joss Whedon    9.873567e+08  8.176901e+08"
      ]
     },
     "execution_count": 39,
     "metadata": {},
     "output_type": "execute_result"
    }
   ],
   "source": [
    "df.groupby('director')[['gross','profit']].mean().sort_values('profit', ascending=False).head(5)"
   ]
  },
  {
   "cell_type": "markdown",
   "id": "01a53241",
   "metadata": {},
   "source": [
    "#### The director producing the movie with the highest revenue and profit is Anthony Russo.\n",
    "\n",
    "Let us find out what are the movies produced by Anthony Russo."
   ]
  },
  {
   "cell_type": "code",
   "execution_count": 40,
   "id": "8d53bc13",
   "metadata": {},
   "outputs": [
    {
     "data": {
      "text/html": [
       "<div>\n",
       "<style scoped>\n",
       "    .dataframe tbody tr th:only-of-type {\n",
       "        vertical-align: middle;\n",
       "    }\n",
       "\n",
       "    .dataframe tbody tr th {\n",
       "        vertical-align: top;\n",
       "    }\n",
       "\n",
       "    .dataframe thead th {\n",
       "        text-align: right;\n",
       "    }\n",
       "</style>\n",
       "<table border=\"1\" class=\"dataframe\">\n",
       "  <thead>\n",
       "    <tr style=\"text-align: right;\">\n",
       "      <th></th>\n",
       "      <th>name</th>\n",
       "      <th>rating</th>\n",
       "      <th>genre</th>\n",
       "      <th>released</th>\n",
       "      <th>score</th>\n",
       "      <th>votes</th>\n",
       "      <th>director</th>\n",
       "      <th>writer</th>\n",
       "      <th>star</th>\n",
       "      <th>country</th>\n",
       "      <th>budget</th>\n",
       "      <th>gross</th>\n",
       "      <th>company</th>\n",
       "      <th>runtime</th>\n",
       "      <th>yearcorrect</th>\n",
       "      <th>profit</th>\n",
       "      <th>profit_margin</th>\n",
       "    </tr>\n",
       "  </thead>\n",
       "  <tbody>\n",
       "    <tr>\n",
       "      <th>7445</th>\n",
       "      <td>Avengers: Endgame</td>\n",
       "      <td>PG-13</td>\n",
       "      <td>Action</td>\n",
       "      <td>April 26, 2019 (United States)</td>\n",
       "      <td>8.4</td>\n",
       "      <td>903000.0</td>\n",
       "      <td>Anthony Russo</td>\n",
       "      <td>Christopher Markus</td>\n",
       "      <td>Robert Downey Jr.</td>\n",
       "      <td>United States</td>\n",
       "      <td>356000000</td>\n",
       "      <td>2797501328</td>\n",
       "      <td>Marvel Studios</td>\n",
       "      <td>181.0</td>\n",
       "      <td>2019</td>\n",
       "      <td>2441501328</td>\n",
       "      <td>87.274358</td>\n",
       "    </tr>\n",
       "    <tr>\n",
       "      <th>7244</th>\n",
       "      <td>Avengers: Infinity War</td>\n",
       "      <td>PG-13</td>\n",
       "      <td>Action</td>\n",
       "      <td>April 27, 2018 (United States)</td>\n",
       "      <td>8.4</td>\n",
       "      <td>897000.0</td>\n",
       "      <td>Anthony Russo</td>\n",
       "      <td>Christopher Markus</td>\n",
       "      <td>Robert Downey Jr.</td>\n",
       "      <td>United States</td>\n",
       "      <td>321000000</td>\n",
       "      <td>2048359754</td>\n",
       "      <td>Marvel Studios</td>\n",
       "      <td>149.0</td>\n",
       "      <td>2018</td>\n",
       "      <td>1727359754</td>\n",
       "      <td>84.328925</td>\n",
       "    </tr>\n",
       "    <tr>\n",
       "      <th>6846</th>\n",
       "      <td>Captain America: Civil War</td>\n",
       "      <td>PG-13</td>\n",
       "      <td>Action</td>\n",
       "      <td>May 6, 2016 (United States)</td>\n",
       "      <td>7.8</td>\n",
       "      <td>694000.0</td>\n",
       "      <td>Anthony Russo</td>\n",
       "      <td>Christopher Markus</td>\n",
       "      <td>Chris Evans</td>\n",
       "      <td>United States</td>\n",
       "      <td>250000000</td>\n",
       "      <td>1153337496</td>\n",
       "      <td>Marvel Studios</td>\n",
       "      <td>147.0</td>\n",
       "      <td>2016</td>\n",
       "      <td>903337496</td>\n",
       "      <td>78.323778</td>\n",
       "    </tr>\n",
       "  </tbody>\n",
       "</table>\n",
       "</div>"
      ],
      "text/plain": [
       "                            name rating   genre  \\\n",
       "7445           Avengers: Endgame  PG-13  Action   \n",
       "7244      Avengers: Infinity War  PG-13  Action   \n",
       "6846  Captain America: Civil War  PG-13  Action   \n",
       "\n",
       "                            released  score     votes       director  \\\n",
       "7445  April 26, 2019 (United States)    8.4  903000.0  Anthony Russo   \n",
       "7244  April 27, 2018 (United States)    8.4  897000.0  Anthony Russo   \n",
       "6846     May 6, 2016 (United States)    7.8  694000.0  Anthony Russo   \n",
       "\n",
       "                  writer               star        country     budget  \\\n",
       "7445  Christopher Markus  Robert Downey Jr.  United States  356000000   \n",
       "7244  Christopher Markus  Robert Downey Jr.  United States  321000000   \n",
       "6846  Christopher Markus        Chris Evans  United States  250000000   \n",
       "\n",
       "           gross         company  runtime  yearcorrect      profit  \\\n",
       "7445  2797501328  Marvel Studios    181.0         2019  2441501328   \n",
       "7244  2048359754  Marvel Studios    149.0         2018  1727359754   \n",
       "6846  1153337496  Marvel Studios    147.0         2016   903337496   \n",
       "\n",
       "      profit_margin  \n",
       "7445      87.274358  \n",
       "7244      84.328925  \n",
       "6846      78.323778  "
      ]
     },
     "execution_count": 40,
     "metadata": {},
     "output_type": "execute_result"
    }
   ],
   "source": [
    "df.query('director == \"Anthony Russo\"').sort_values('profit', ascending=False).head(3)"
   ]
  },
  {
   "cell_type": "markdown",
   "id": "7209bd14",
   "metadata": {},
   "source": [
    "***\n",
    "## Q5:  Which star actor is associated with higher popularity, gross and profit?\n"
   ]
  },
  {
   "cell_type": "code",
   "execution_count": 41,
   "id": "bff52aeb",
   "metadata": {
    "scrolled": true
   },
   "outputs": [
    {
     "data": {
      "text/plain": [
       "count             5421\n",
       "unique            1845\n",
       "top       Nicolas Cage\n",
       "freq                40\n",
       "Name: star, dtype: object"
      ]
     },
     "execution_count": 41,
     "metadata": {},
     "output_type": "execute_result"
    }
   ],
   "source": [
    "df['star'].describe()"
   ]
  },
  {
   "cell_type": "code",
   "execution_count": 42,
   "id": "7011c846",
   "metadata": {},
   "outputs": [
    {
     "data": {
      "text/plain": [
       "Nicolas Cage       40\n",
       "Tom Hanks          38\n",
       "Robert De Niro     38\n",
       "Bruce Willis       34\n",
       "Tom Cruise         33\n",
       "                   ..\n",
       "Robin Shou          1\n",
       "Mira Sorvino        1\n",
       "Djimon Hounsou      1\n",
       "Stephen Fry         1\n",
       "Zhi-zhong Huang     1\n",
       "Name: star, Length: 1845, dtype: int64"
      ]
     },
     "execution_count": 42,
     "metadata": {},
     "output_type": "execute_result"
    }
   ],
   "source": [
    "df['star'].value_counts()"
   ]
  },
  {
   "cell_type": "code",
   "execution_count": 43,
   "id": "5088002c",
   "metadata": {},
   "outputs": [
    {
     "data": {
      "text/html": [
       "<div>\n",
       "<style scoped>\n",
       "    .dataframe tbody tr th:only-of-type {\n",
       "        vertical-align: middle;\n",
       "    }\n",
       "\n",
       "    .dataframe tbody tr th {\n",
       "        vertical-align: top;\n",
       "    }\n",
       "\n",
       "    .dataframe thead th {\n",
       "        text-align: right;\n",
       "    }\n",
       "</style>\n",
       "<table border=\"1\" class=\"dataframe\">\n",
       "  <thead>\n",
       "    <tr style=\"text-align: right;\">\n",
       "      <th></th>\n",
       "      <th>votes</th>\n",
       "      <th>gross</th>\n",
       "      <th>profit</th>\n",
       "    </tr>\n",
       "    <tr>\n",
       "      <th>star</th>\n",
       "      <th></th>\n",
       "      <th></th>\n",
       "      <th></th>\n",
       "    </tr>\n",
       "  </thead>\n",
       "  <tbody>\n",
       "    <tr>\n",
       "      <th>Robert Downey Jr.</th>\n",
       "      <td>8279700.0</td>\n",
       "      <td>11855937746</td>\n",
       "      <td>9557937746</td>\n",
       "    </tr>\n",
       "    <tr>\n",
       "      <th>Tom Hanks</th>\n",
       "      <td>12421000.0</td>\n",
       "      <td>9899944903</td>\n",
       "      <td>7607944903</td>\n",
       "    </tr>\n",
       "    <tr>\n",
       "      <th>Tom Cruise</th>\n",
       "      <td>8241200.0</td>\n",
       "      <td>9440309875</td>\n",
       "      <td>6903009875</td>\n",
       "    </tr>\n",
       "    <tr>\n",
       "      <th>Daniel Radcliffe</th>\n",
       "      <td>4506000.0</td>\n",
       "      <td>6971268037</td>\n",
       "      <td>5848268037</td>\n",
       "    </tr>\n",
       "    <tr>\n",
       "      <th>Will Smith</th>\n",
       "      <td>6332000.0</td>\n",
       "      <td>7947279234</td>\n",
       "      <td>5657179234</td>\n",
       "    </tr>\n",
       "  </tbody>\n",
       "</table>\n",
       "</div>"
      ],
      "text/plain": [
       "                        votes        gross      profit\n",
       "star                                                  \n",
       "Robert Downey Jr.   8279700.0  11855937746  9557937746\n",
       "Tom Hanks          12421000.0   9899944903  7607944903\n",
       "Tom Cruise          8241200.0   9440309875  6903009875\n",
       "Daniel Radcliffe    4506000.0   6971268037  5848268037\n",
       "Will Smith          6332000.0   7947279234  5657179234"
      ]
     },
     "execution_count": 43,
     "metadata": {},
     "output_type": "execute_result"
    }
   ],
   "source": [
    "df.groupby('star')[['votes','gross','profit']].sum().sort_values('profit',ascending=False).head(5)"
   ]
  },
  {
   "cell_type": "code",
   "execution_count": 44,
   "id": "77842b12",
   "metadata": {},
   "outputs": [
    {
     "data": {
      "text/html": [
       "<div>\n",
       "<style scoped>\n",
       "    .dataframe tbody tr th:only-of-type {\n",
       "        vertical-align: middle;\n",
       "    }\n",
       "\n",
       "    .dataframe tbody tr th {\n",
       "        vertical-align: top;\n",
       "    }\n",
       "\n",
       "    .dataframe thead th {\n",
       "        text-align: right;\n",
       "    }\n",
       "</style>\n",
       "<table border=\"1\" class=\"dataframe\">\n",
       "  <thead>\n",
       "    <tr style=\"text-align: right;\">\n",
       "      <th></th>\n",
       "      <th>name</th>\n",
       "      <th>rating</th>\n",
       "      <th>genre</th>\n",
       "      <th>released</th>\n",
       "      <th>score</th>\n",
       "      <th>votes</th>\n",
       "      <th>director</th>\n",
       "      <th>writer</th>\n",
       "      <th>star</th>\n",
       "      <th>country</th>\n",
       "      <th>budget</th>\n",
       "      <th>gross</th>\n",
       "      <th>company</th>\n",
       "      <th>runtime</th>\n",
       "      <th>yearcorrect</th>\n",
       "      <th>profit</th>\n",
       "      <th>profit_margin</th>\n",
       "    </tr>\n",
       "  </thead>\n",
       "  <tbody>\n",
       "    <tr>\n",
       "      <th>7445</th>\n",
       "      <td>Avengers: Endgame</td>\n",
       "      <td>PG-13</td>\n",
       "      <td>Action</td>\n",
       "      <td>April 26, 2019 (United States)</td>\n",
       "      <td>8.4</td>\n",
       "      <td>903000.0</td>\n",
       "      <td>Anthony Russo</td>\n",
       "      <td>Christopher Markus</td>\n",
       "      <td>Robert Downey Jr.</td>\n",
       "      <td>United States</td>\n",
       "      <td>356000000</td>\n",
       "      <td>2797501328</td>\n",
       "      <td>Marvel Studios</td>\n",
       "      <td>181.0</td>\n",
       "      <td>2019</td>\n",
       "      <td>2441501328</td>\n",
       "      <td>87.274358</td>\n",
       "    </tr>\n",
       "  </tbody>\n",
       "</table>\n",
       "</div>"
      ],
      "text/plain": [
       "                   name rating   genre                        released  score  \\\n",
       "7445  Avengers: Endgame  PG-13  Action  April 26, 2019 (United States)    8.4   \n",
       "\n",
       "         votes       director              writer               star  \\\n",
       "7445  903000.0  Anthony Russo  Christopher Markus  Robert Downey Jr.   \n",
       "\n",
       "            country     budget       gross         company  runtime  \\\n",
       "7445  United States  356000000  2797501328  Marvel Studios    181.0   \n",
       "\n",
       "      yearcorrect      profit  profit_margin  \n",
       "7445         2019  2441501328      87.274358  "
      ]
     },
     "execution_count": 44,
     "metadata": {},
     "output_type": "execute_result"
    }
   ],
   "source": [
    "df.query('star == \"Robert Downey Jr.\"').sort_values('gross',ascending=False).head(1)"
   ]
  },
  {
   "cell_type": "code",
   "execution_count": 45,
   "id": "587b7a8a",
   "metadata": {},
   "outputs": [
    {
     "data": {
      "text/html": [
       "<div>\n",
       "<style scoped>\n",
       "    .dataframe tbody tr th:only-of-type {\n",
       "        vertical-align: middle;\n",
       "    }\n",
       "\n",
       "    .dataframe tbody tr th {\n",
       "        vertical-align: top;\n",
       "    }\n",
       "\n",
       "    .dataframe thead th {\n",
       "        text-align: right;\n",
       "    }\n",
       "</style>\n",
       "<table border=\"1\" class=\"dataframe\">\n",
       "  <thead>\n",
       "    <tr style=\"text-align: right;\">\n",
       "      <th></th>\n",
       "      <th>name</th>\n",
       "      <th>rating</th>\n",
       "      <th>genre</th>\n",
       "      <th>released</th>\n",
       "      <th>score</th>\n",
       "      <th>votes</th>\n",
       "      <th>director</th>\n",
       "      <th>writer</th>\n",
       "      <th>star</th>\n",
       "      <th>country</th>\n",
       "      <th>budget</th>\n",
       "      <th>gross</th>\n",
       "      <th>company</th>\n",
       "      <th>runtime</th>\n",
       "      <th>yearcorrect</th>\n",
       "      <th>profit</th>\n",
       "      <th>profit_margin</th>\n",
       "    </tr>\n",
       "  </thead>\n",
       "  <tbody>\n",
       "    <tr>\n",
       "      <th>7488</th>\n",
       "      <td>Toy Story 4</td>\n",
       "      <td>G</td>\n",
       "      <td>Animation</td>\n",
       "      <td>June 21, 2019 (United States)</td>\n",
       "      <td>7.7</td>\n",
       "      <td>217000.0</td>\n",
       "      <td>Josh Cooley</td>\n",
       "      <td>John Lasseter</td>\n",
       "      <td>Tom Hanks</td>\n",
       "      <td>United States</td>\n",
       "      <td>200000000</td>\n",
       "      <td>1073394593</td>\n",
       "      <td>Pixar Animation Studios</td>\n",
       "      <td>100.0</td>\n",
       "      <td>2019</td>\n",
       "      <td>873394593</td>\n",
       "      <td>81.367523</td>\n",
       "    </tr>\n",
       "  </tbody>\n",
       "</table>\n",
       "</div>"
      ],
      "text/plain": [
       "             name rating      genre                       released  score  \\\n",
       "7488  Toy Story 4      G  Animation  June 21, 2019 (United States)    7.7   \n",
       "\n",
       "         votes     director         writer       star        country  \\\n",
       "7488  217000.0  Josh Cooley  John Lasseter  Tom Hanks  United States   \n",
       "\n",
       "         budget       gross                  company  runtime  yearcorrect  \\\n",
       "7488  200000000  1073394593  Pixar Animation Studios    100.0         2019   \n",
       "\n",
       "         profit  profit_margin  \n",
       "7488  873394593      81.367523  "
      ]
     },
     "execution_count": 45,
     "metadata": {},
     "output_type": "execute_result"
    }
   ],
   "source": [
    "df.query('star == \"Tom Hanks\"').sort_values('gross',ascending=False).head(1)"
   ]
  },
  {
   "cell_type": "code",
   "execution_count": 46,
   "id": "fb06466a",
   "metadata": {},
   "outputs": [
    {
     "data": {
      "text/html": [
       "<div>\n",
       "<style scoped>\n",
       "    .dataframe tbody tr th:only-of-type {\n",
       "        vertical-align: middle;\n",
       "    }\n",
       "\n",
       "    .dataframe tbody tr th {\n",
       "        vertical-align: top;\n",
       "    }\n",
       "\n",
       "    .dataframe thead th {\n",
       "        text-align: right;\n",
       "    }\n",
       "</style>\n",
       "<table border=\"1\" class=\"dataframe\">\n",
       "  <thead>\n",
       "    <tr style=\"text-align: right;\">\n",
       "      <th></th>\n",
       "      <th>name</th>\n",
       "      <th>rating</th>\n",
       "      <th>genre</th>\n",
       "      <th>released</th>\n",
       "      <th>score</th>\n",
       "      <th>votes</th>\n",
       "      <th>director</th>\n",
       "      <th>writer</th>\n",
       "      <th>star</th>\n",
       "      <th>country</th>\n",
       "      <th>budget</th>\n",
       "      <th>gross</th>\n",
       "      <th>company</th>\n",
       "      <th>runtime</th>\n",
       "      <th>yearcorrect</th>\n",
       "      <th>profit</th>\n",
       "      <th>profit_margin</th>\n",
       "    </tr>\n",
       "  </thead>\n",
       "  <tbody>\n",
       "    <tr>\n",
       "      <th>7253</th>\n",
       "      <td>Mission: Impossible - Fallout</td>\n",
       "      <td>PG-13</td>\n",
       "      <td>Action</td>\n",
       "      <td>July 27, 2018 (United States)</td>\n",
       "      <td>7.7</td>\n",
       "      <td>303000.0</td>\n",
       "      <td>Christopher McQuarrie</td>\n",
       "      <td>Bruce Geller</td>\n",
       "      <td>Tom Cruise</td>\n",
       "      <td>United States</td>\n",
       "      <td>178000000</td>\n",
       "      <td>791657398</td>\n",
       "      <td>Paramount Pictures</td>\n",
       "      <td>147.0</td>\n",
       "      <td>2018</td>\n",
       "      <td>613657398</td>\n",
       "      <td>77.515526</td>\n",
       "    </tr>\n",
       "  </tbody>\n",
       "</table>\n",
       "</div>"
      ],
      "text/plain": [
       "                               name rating   genre  \\\n",
       "7253  Mission: Impossible - Fallout  PG-13  Action   \n",
       "\n",
       "                           released  score     votes               director  \\\n",
       "7253  July 27, 2018 (United States)    7.7  303000.0  Christopher McQuarrie   \n",
       "\n",
       "            writer        star        country     budget      gross  \\\n",
       "7253  Bruce Geller  Tom Cruise  United States  178000000  791657398   \n",
       "\n",
       "                 company  runtime  yearcorrect     profit  profit_margin  \n",
       "7253  Paramount Pictures    147.0         2018  613657398      77.515526  "
      ]
     },
     "execution_count": 46,
     "metadata": {},
     "output_type": "execute_result"
    }
   ],
   "source": [
    "df.query('star == \"Tom Cruise\"').sort_values('gross',ascending=False).head(1)"
   ]
  },
  {
   "cell_type": "markdown",
   "id": "9e117ec8",
   "metadata": {},
   "source": [
    "#### Actors associated with higher gross and profit are Robert Downey Jr., Tom Hanks and Tom Cruise."
   ]
  },
  {
   "cell_type": "markdown",
   "id": "8be4c803",
   "metadata": {},
   "source": [
    "***\n",
    "## Q6: Which year produced movies with highest grossing revenue?"
   ]
  },
  {
   "cell_type": "code",
   "execution_count": 47,
   "id": "dd60af4c",
   "metadata": {},
   "outputs": [
    {
     "data": {
      "text/html": [
       "<div>\n",
       "<style scoped>\n",
       "    .dataframe tbody tr th:only-of-type {\n",
       "        vertical-align: middle;\n",
       "    }\n",
       "\n",
       "    .dataframe tbody tr th {\n",
       "        vertical-align: top;\n",
       "    }\n",
       "\n",
       "    .dataframe thead th {\n",
       "        text-align: right;\n",
       "    }\n",
       "</style>\n",
       "<table border=\"1\" class=\"dataframe\">\n",
       "  <thead>\n",
       "    <tr style=\"text-align: right;\">\n",
       "      <th></th>\n",
       "      <th>yearcorrect</th>\n",
       "      <th>gross</th>\n",
       "    </tr>\n",
       "  </thead>\n",
       "  <tbody>\n",
       "    <tr>\n",
       "      <th>0</th>\n",
       "      <td>2020.0</td>\n",
       "      <td>2.592008e+08</td>\n",
       "    </tr>\n",
       "    <tr>\n",
       "      <th>1</th>\n",
       "      <td>2019.0</td>\n",
       "      <td>2.267999e+08</td>\n",
       "    </tr>\n",
       "    <tr>\n",
       "      <th>2</th>\n",
       "      <td>2017.0</td>\n",
       "      <td>1.969212e+08</td>\n",
       "    </tr>\n",
       "    <tr>\n",
       "      <th>3</th>\n",
       "      <td>2018.0</td>\n",
       "      <td>1.945072e+08</td>\n",
       "    </tr>\n",
       "    <tr>\n",
       "      <th>4</th>\n",
       "      <td>2016.0</td>\n",
       "      <td>1.711169e+08</td>\n",
       "    </tr>\n",
       "  </tbody>\n",
       "</table>\n",
       "</div>"
      ],
      "text/plain": [
       "   yearcorrect         gross\n",
       "0       2020.0  2.592008e+08\n",
       "1       2019.0  2.267999e+08\n",
       "2       2017.0  1.969212e+08\n",
       "3       2018.0  1.945072e+08\n",
       "4       2016.0  1.711169e+08"
      ]
     },
     "execution_count": 47,
     "metadata": {},
     "output_type": "execute_result"
    }
   ],
   "source": [
    "year_gross = df.groupby('yearcorrect')[['yearcorrect','gross']].mean().sort_values('gross', ascending=False)\n",
    "year_gross = year_gross.reset_index(drop=True)\n",
    "year_gross.head(5)"
   ]
  },
  {
   "cell_type": "code",
   "execution_count": 67,
   "id": "9546c62d",
   "metadata": {},
   "outputs": [
    {
     "data": {
      "text/plain": [
       "Text(0.5, 1.0, 'Gross Revenue by Year')"
      ]
     },
     "execution_count": 67,
     "metadata": {},
     "output_type": "execute_result"
    },
    {
     "data": {
      "image/png": "[encoded data removed]",
      "text/plain": [
       "<Figure size 576x432 with 1 Axes>"
      ]
     },
     "metadata": {
      "needs_background": "light"
     },
     "output_type": "display_data"
    }
   ],
   "source": [
    "e= sns.lineplot(data=year_gross, x=\"yearcorrect\", y=\"gross\")\n",
    "e.figure.set_size_inches(8, 6)\n",
    "\n",
    "# Set label for x-axis\n",
    "e.set_xlabel( \"Year\" , size = 12 )\n",
    "  \n",
    "# Set label for y-axis\n",
    "e.set_ylabel( \"Gross\" , size = 12 )\n",
    "  \n",
    "# Set title for plot\n",
    "e.set_title( \"Gross Revenue by Year\" , size = 16 )"
   ]
  },
  {
   "cell_type": "code",
   "execution_count": 49,
   "id": "3ea9415f",
   "metadata": {},
   "outputs": [
    {
     "data": {
      "text/html": [
       "<div>\n",
       "<style scoped>\n",
       "    .dataframe tbody tr th:only-of-type {\n",
       "        vertical-align: middle;\n",
       "    }\n",
       "\n",
       "    .dataframe tbody tr th {\n",
       "        vertical-align: top;\n",
       "    }\n",
       "\n",
       "    .dataframe thead th {\n",
       "        text-align: right;\n",
       "    }\n",
       "</style>\n",
       "<table border=\"1\" class=\"dataframe\">\n",
       "  <thead>\n",
       "    <tr style=\"text-align: right;\">\n",
       "      <th></th>\n",
       "      <th>name</th>\n",
       "      <th>rating</th>\n",
       "      <th>genre</th>\n",
       "      <th>released</th>\n",
       "      <th>score</th>\n",
       "      <th>votes</th>\n",
       "      <th>director</th>\n",
       "      <th>writer</th>\n",
       "      <th>star</th>\n",
       "      <th>country</th>\n",
       "      <th>budget</th>\n",
       "      <th>gross</th>\n",
       "      <th>company</th>\n",
       "      <th>runtime</th>\n",
       "      <th>yearcorrect</th>\n",
       "      <th>profit</th>\n",
       "      <th>profit_margin</th>\n",
       "    </tr>\n",
       "  </thead>\n",
       "  <tbody>\n",
       "    <tr>\n",
       "      <th>5445</th>\n",
       "      <td>Avatar</td>\n",
       "      <td>PG-13</td>\n",
       "      <td>Action</td>\n",
       "      <td>December 18, 2009 (United States)</td>\n",
       "      <td>7.8</td>\n",
       "      <td>1100000.0</td>\n",
       "      <td>James Cameron</td>\n",
       "      <td>James Cameron</td>\n",
       "      <td>Sam Worthington</td>\n",
       "      <td>United States</td>\n",
       "      <td>237000000</td>\n",
       "      <td>2847246203</td>\n",
       "      <td>Twentieth Century Fox</td>\n",
       "      <td>162.0</td>\n",
       "      <td>2009</td>\n",
       "      <td>2610246203</td>\n",
       "      <td>91.676168</td>\n",
       "    </tr>\n",
       "  </tbody>\n",
       "</table>\n",
       "</div>"
      ],
      "text/plain": [
       "        name rating   genre                           released  score  \\\n",
       "5445  Avatar  PG-13  Action  December 18, 2009 (United States)    7.8   \n",
       "\n",
       "          votes       director         writer             star        country  \\\n",
       "5445  1100000.0  James Cameron  James Cameron  Sam Worthington  United States   \n",
       "\n",
       "         budget       gross                company  runtime  yearcorrect  \\\n",
       "5445  237000000  2847246203  Twentieth Century Fox    162.0         2009   \n",
       "\n",
       "          profit  profit_margin  \n",
       "5445  2610246203      91.676168  "
      ]
     },
     "execution_count": 49,
     "metadata": {},
     "output_type": "execute_result"
    }
   ],
   "source": [
    "df.sort_values('gross',ascending=False).head(1)"
   ]
  },
  {
   "cell_type": "markdown",
   "id": "a9ac426e",
   "metadata": {},
   "source": [
    "#### 2020 produced movies with highest grossing revenue.\n",
    "\n",
    "#### Avatar produced in 2009 has the highest grossing revenue."
   ]
  },
  {
   "cell_type": "markdown",
   "id": "2e63a887",
   "metadata": {},
   "source": [
    "***\n",
    "## Q7: Which company has the most revenue and what is their most profitable film?\n"
   ]
  },
  {
   "cell_type": "code",
   "execution_count": 69,
   "id": "0755ab5d",
   "metadata": {},
   "outputs": [
    {
     "data": {
      "text/plain": [
       "company\n",
       "Warner Bros.                 54610959970\n",
       "Universal Pictures           51241105418\n",
       "Columbia Pictures            42356430218\n",
       "Paramount Pictures           40021704691\n",
       "Twentieth Century Fox        39542573303\n",
       "Walt Disney Pictures         35833650748\n",
       "New Line Cinema              19612851164\n",
       "Marvel Studios               15065592411\n",
       "DreamWorks Animation         11873612858\n",
       "Dreamworks Pictures          11593807697\n",
       "Touchstone Pictures          10664679494\n",
       "Metro-Goldwyn-Mayer (MGM)     8937010092\n",
       "Summit Entertainment          8318570396\n",
       "Pixar Animation Studios       7886344526\n",
       "Fox 2000 Pictures             7243673721\n",
       "Name: gross, dtype: int64"
      ]
     },
     "execution_count": 69,
     "metadata": {},
     "output_type": "execute_result"
    }
   ],
   "source": [
    "# Looking at the top 15 companies by gross revenue\n",
    "\n",
    "CompanyGrossSum = df.groupby('company')[[\"gross\"]].sum().sort_values('gross', ascending = False)[:15]\n",
    "\n",
    "CompanyGrossSumSorted"
   ]
  },
  {
   "cell_type": "code",
   "execution_count": 73,
   "id": "c7a6317b",
   "metadata": {
    "scrolled": true
   },
   "outputs": [
    {
     "data": {
      "text/html": [
       "<div>\n",
       "<style scoped>\n",
       "    .dataframe tbody tr th:only-of-type {\n",
       "        vertical-align: middle;\n",
       "    }\n",
       "\n",
       "    .dataframe tbody tr th {\n",
       "        vertical-align: top;\n",
       "    }\n",
       "\n",
       "    .dataframe thead th {\n",
       "        text-align: right;\n",
       "    }\n",
       "</style>\n",
       "<table border=\"1\" class=\"dataframe\">\n",
       "  <thead>\n",
       "    <tr style=\"text-align: right;\">\n",
       "      <th></th>\n",
       "      <th>name</th>\n",
       "      <th>rating</th>\n",
       "      <th>genre</th>\n",
       "      <th>released</th>\n",
       "      <th>score</th>\n",
       "      <th>votes</th>\n",
       "      <th>director</th>\n",
       "      <th>writer</th>\n",
       "      <th>star</th>\n",
       "      <th>country</th>\n",
       "      <th>budget</th>\n",
       "      <th>gross</th>\n",
       "      <th>company</th>\n",
       "      <th>runtime</th>\n",
       "      <th>yearcorrect</th>\n",
       "      <th>profit</th>\n",
       "      <th>profit_margin</th>\n",
       "    </tr>\n",
       "  </thead>\n",
       "  <tbody>\n",
       "    <tr>\n",
       "      <th>5845</th>\n",
       "      <td>Harry Potter and the Deathly Hallows: Part 2</td>\n",
       "      <td>PG-13</td>\n",
       "      <td>Adventure</td>\n",
       "      <td>July 15, 2011 (United States)</td>\n",
       "      <td>8.1</td>\n",
       "      <td>790000.0</td>\n",
       "      <td>David Yates</td>\n",
       "      <td>Steve Kloves</td>\n",
       "      <td>Daniel Radcliffe</td>\n",
       "      <td>United Kingdom</td>\n",
       "      <td>125000000</td>\n",
       "      <td>1342321665</td>\n",
       "      <td>Warner Bros.</td>\n",
       "      <td>130.0</td>\n",
       "      <td>2011</td>\n",
       "      <td>1217321665</td>\n",
       "      <td>90.687776</td>\n",
       "    </tr>\n",
       "  </tbody>\n",
       "</table>\n",
       "</div>"
      ],
      "text/plain": [
       "                                              name rating      genre  \\\n",
       "5845  Harry Potter and the Deathly Hallows: Part 2  PG-13  Adventure   \n",
       "\n",
       "                           released  score     votes     director  \\\n",
       "5845  July 15, 2011 (United States)    8.1  790000.0  David Yates   \n",
       "\n",
       "            writer              star         country     budget       gross  \\\n",
       "5845  Steve Kloves  Daniel Radcliffe  United Kingdom  125000000  1342321665   \n",
       "\n",
       "           company  runtime  yearcorrect      profit  profit_margin  \n",
       "5845  Warner Bros.    130.0         2011  1217321665      90.687776  "
      ]
     },
     "execution_count": 73,
     "metadata": {},
     "output_type": "execute_result"
    }
   ],
   "source": [
    "df.query('company == \"Warner Bros.\"').sort_values('profit',ascending=False).head(1)"
   ]
  },
  {
   "cell_type": "markdown",
   "id": "f003be00",
   "metadata": {},
   "source": [
    "#### Warner Bros. is the company with the highest revenue and its most profitable film was Harry Potter and the Deathly Hallows: Part 2"
   ]
  },
  {
   "cell_type": "markdown",
   "id": "c7fd3f0c",
   "metadata": {},
   "source": [
    "***\n",
    "## Q8: What are the 3 best rated movies?"
   ]
  },
  {
   "cell_type": "code",
   "execution_count": 81,
   "id": "989883f5",
   "metadata": {},
   "outputs": [
    {
     "data": {
      "text/plain": [
       "count    5421.000000\n",
       "mean        6.392455\n",
       "std         0.962730\n",
       "min         1.900000\n",
       "25%         5.800000\n",
       "50%         6.500000\n",
       "75%         7.100000\n",
       "max         9.300000\n",
       "Name: score, dtype: float64"
      ]
     },
     "execution_count": 81,
     "metadata": {},
     "output_type": "execute_result"
    }
   ],
   "source": [
    "df['score'].describe()"
   ]
  },
  {
   "cell_type": "code",
   "execution_count": 92,
   "id": "748650d7",
   "metadata": {},
   "outputs": [
    {
     "data": {
      "text/html": [
       "<div>\n",
       "<style scoped>\n",
       "    .dataframe tbody tr th:only-of-type {\n",
       "        vertical-align: middle;\n",
       "    }\n",
       "\n",
       "    .dataframe tbody tr th {\n",
       "        vertical-align: top;\n",
       "    }\n",
       "\n",
       "    .dataframe thead th {\n",
       "        text-align: right;\n",
       "    }\n",
       "</style>\n",
       "<table border=\"1\" class=\"dataframe\">\n",
       "  <thead>\n",
       "    <tr style=\"text-align: right;\">\n",
       "      <th></th>\n",
       "      <th>name</th>\n",
       "      <th>score</th>\n",
       "    </tr>\n",
       "  </thead>\n",
       "  <tbody>\n",
       "    <tr>\n",
       "      <th>2443</th>\n",
       "      <td>The Shawshank Redemption</td>\n",
       "      <td>9.3</td>\n",
       "    </tr>\n",
       "    <tr>\n",
       "      <th>5243</th>\n",
       "      <td>The Dark Knight</td>\n",
       "      <td>9.0</td>\n",
       "    </tr>\n",
       "    <tr>\n",
       "      <th>2247</th>\n",
       "      <td>Schindler's List</td>\n",
       "      <td>8.9</td>\n",
       "    </tr>\n",
       "    <tr>\n",
       "      <th>2444</th>\n",
       "      <td>Pulp Fiction</td>\n",
       "      <td>8.9</td>\n",
       "    </tr>\n",
       "    <tr>\n",
       "      <th>4245</th>\n",
       "      <td>The Lord of the Rings: The Return of the King</td>\n",
       "      <td>8.9</td>\n",
       "    </tr>\n",
       "    <tr>\n",
       "      <th>5643</th>\n",
       "      <td>Inception</td>\n",
       "      <td>8.8</td>\n",
       "    </tr>\n",
       "    <tr>\n",
       "      <th>2445</th>\n",
       "      <td>Forrest Gump</td>\n",
       "      <td>8.8</td>\n",
       "    </tr>\n",
       "    <tr>\n",
       "      <th>3444</th>\n",
       "      <td>Fight Club</td>\n",
       "      <td>8.8</td>\n",
       "    </tr>\n",
       "    <tr>\n",
       "      <th>3845</th>\n",
       "      <td>The Lord of the Rings: The Fellowship of the Ring</td>\n",
       "      <td>8.8</td>\n",
       "    </tr>\n",
       "    <tr>\n",
       "      <th>3443</th>\n",
       "      <td>The Matrix</td>\n",
       "      <td>8.7</td>\n",
       "    </tr>\n",
       "    <tr>\n",
       "      <th>1643</th>\n",
       "      <td>Goodfellas</td>\n",
       "      <td>8.7</td>\n",
       "    </tr>\n",
       "    <tr>\n",
       "      <th>2</th>\n",
       "      <td>Star Wars: Episode V - The Empire Strikes Back</td>\n",
       "      <td>8.7</td>\n",
       "    </tr>\n",
       "    <tr>\n",
       "      <th>4048</th>\n",
       "      <td>The Lord of the Rings: The Two Towers</td>\n",
       "      <td>8.7</td>\n",
       "    </tr>\n",
       "    <tr>\n",
       "      <th>7452</th>\n",
       "      <td>Parasite</td>\n",
       "      <td>8.6</td>\n",
       "    </tr>\n",
       "    <tr>\n",
       "      <th>6444</th>\n",
       "      <td>Interstellar</td>\n",
       "      <td>8.6</td>\n",
       "    </tr>\n",
       "  </tbody>\n",
       "</table>\n",
       "</div>"
      ],
      "text/plain": [
       "                                                   name  score\n",
       "2443                           The Shawshank Redemption    9.3\n",
       "5243                                    The Dark Knight    9.0\n",
       "2247                                   Schindler's List    8.9\n",
       "2444                                       Pulp Fiction    8.9\n",
       "4245      The Lord of the Rings: The Return of the King    8.9\n",
       "5643                                          Inception    8.8\n",
       "2445                                       Forrest Gump    8.8\n",
       "3444                                         Fight Club    8.8\n",
       "3845  The Lord of the Rings: The Fellowship of the Ring    8.8\n",
       "3443                                         The Matrix    8.7\n",
       "1643                                         Goodfellas    8.7\n",
       "2        Star Wars: Episode V - The Empire Strikes Back    8.7\n",
       "4048              The Lord of the Rings: The Two Towers    8.7\n",
       "7452                                           Parasite    8.6\n",
       "6444                                       Interstellar    8.6"
      ]
     },
     "execution_count": 92,
     "metadata": {},
     "output_type": "execute_result"
    }
   ],
   "source": [
    "# Looking at the top 15 highest rated movies\n",
    "\n",
    "df[[\"name\",\"score\"]].sort_values('score', ascending = False)[:15]\n"
   ]
  },
  {
   "cell_type": "markdown",
   "id": "6494ab37",
   "metadata": {},
   "source": [
    "***\n",
    "### Conclusions:\n",
    "\n",
    "\n",
    "#### Q1: Does a higher budget results in higher revenue and profit?\n",
    "WE confirm that we have correlation between budget and gross and between budget and profit. In general, movies with a higher budget results in a higher profit.\n",
    "\n",
    "\n",
    "#### Q2: What is the most profitable genre?\n",
    "Family, Animation and Action are the most profitable genres\n",
    "\n",
    "\n",
    "#### Q3: Which genres are associated with high popularity?\n",
    "Mistery, Family and Action are the most popular genres.\n",
    "\n",
    "\n",
    "#### Q4: Which director produces the highest gross movies?\n",
    "The director producing the movie with the highest revenue and profit is Anthony Russo, directing Marvel hero movies.\n",
    "\n",
    "\n",
    "#### Q5: Which star actor is associated with higher popularity, gross and profit?\n",
    "Actors associated with higher gross and profit are Robert Downey Jr., Tom Hanks and Tom Cruise.\n",
    "\n",
    "\n",
    "#### Q6: Which year produced movies with highest grossing revenue?\n",
    "2020 produced movies with highest grossing revenue.\n",
    "Avatar produced in 2009 has the highest grossing revenue\n",
    "\n",
    "\n",
    "#### Q7: Which company has the most revenue and what is their most profitable film?\n",
    "Warner Bros. is the company with the highest revenue and its most profitable film was Harry Potter and the Deathly Hallows: Part 2\n",
    "\n",
    "\n",
    "#### Q8: What are the 3 best rated movies?\n",
    "The best rated films are: The Shawshank Redemption, The Dark Knight and Schindler's List.\n",
    "\n",
    "\n",
    "### Limitations of Dataset:\n",
    "- too much data without budget information has been erased\n",
    "\n",
    "I hope that you enjoyed 😁"
   ]
  }
 ],
 "metadata": {
  "kernelspec": {
   "display_name": "Python 3 (ipykernel)",
   "language": "python",
   "name": "python3"
  },
  "language_info": {
   "codemirror_mode": {
    "name": "ipython",
    "version": 3
   },
   "file_extension": ".py",
   "mimetype": "text/x-python",
   "name": "python",
   "nbconvert_exporter": "python",
   "pygments_lexer": "ipython3",
   "version": "3.9.12"
  }
 },
 "nbformat": 4,
 "nbformat_minor": 5
}
